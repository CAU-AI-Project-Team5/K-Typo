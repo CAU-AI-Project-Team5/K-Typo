{
 "cells": [
  {
   "cell_type": "code",
   "execution_count": 14,
   "id": "9ede3459",
   "metadata": {},
   "outputs": [
    {
     "name": "stdout",
     "output_type": "stream",
     "text": [
      "✅ 저장 완료: converted_json\\Electronics-Engineering-train.json\n"
     ]
    }
   ],
   "source": [
    "from datasets import load_dataset\n",
    "import os\n",
    "\n",
    "# 🔧 설정\n",
    "subset = \"Electronics-Engineering\"\n",
    "split = \"train\"\n",
    "save_dir = \"converted_json\"\n",
    "\n",
    "# 1. 데이터셋 다운로드\n",
    "dataset = load_dataset(\"HAERAE-HUB/KMMLU\", subset, split=split)\n",
    "\n",
    "# 2. 저장 폴더 만들기\n",
    "os.makedirs(save_dir, exist_ok=True)\n",
    "\n",
    "# 3. 파일 이름\n",
    "json_name = f\"{subset}-{split}.json\"\n",
    "json_path = os.path.join(save_dir, json_name)\n",
    "\n",
    "\n",
    "df = dataset.to_pandas()\n",
    "df.to_json(json_path, orient=\"records\", lines=True, force_ascii=False)\n",
    "\n",
    "\n",
    "print(f\"✅ 저장 완료: {json_path}\")\n"
   ]
  },
  {
   "cell_type": "code",
   "execution_count": 20,
   "id": "1dee34e8",
   "metadata": {},
   "outputs": [
    {
     "name": "stdout",
     "output_type": "stream",
     "text": [
      "✅ 저장 완료: ./modified_json\\Electronics-Engineering-train_introduce_typo.json\n",
      "✅ 저장 완료: ./modified_json\\Electronics-Engineering-train_drop_jongsung.json\n",
      "✅ 저장 완료: ./modified_json\\Electronics-Engineering-train_repeat_char.json\n",
      "✅ 저장 완료: ./modified_json\\Electronics-Engineering-train_merge_words.json\n",
      "✅ 저장 완료: ./modified_json\\Electronics-Engineering-train_swap_parts.json\n"
     ]
    }
   ],
   "source": [
    "import pandas as pd\n",
    "import os\n",
    "\n",
    "# 🔧 설정\n",
    "json_dir = \"./converted_json\"\n",
    "save_dir = \"./modified_json\"\n",
    "column = \"question\"\n",
    "typo_types = [\"introduce_typo\", \"drop_jongsung\", \"repeat_char\",\"merge_words\",\"swap_parts\"]\n",
    "count = 3\n",
    "ratio = None\n",
    "max_repeat = 3\n",
    "\n",
    "from typo_generation import (\n",
    "    introduce_typo_to_sentence,\n",
    "    drop_jongsung_sentence,\n",
    "    repeat_char_typo_no_space,\n",
    "    merge_words_typo,\n",
    "    grammar_error,\n",
    "    swap_parts_in_sentence,\n",
    "    typo_dict\n",
    ")\n",
    "\n",
    "# 모든 JSON 경로 수집\n",
    "json_paths = [\n",
    "    os.path.join(json_dir, f)\n",
    "    for f in os.listdir(json_dir)\n",
    "    if f.endswith(\".json\")\n",
    "]\n",
    "\n",
    "# 오타 함수 정의\n",
    "typo_funcs = {\n",
    "    \"introduce_typo\": lambda text: introduce_typo_to_sentence(text, count=count, ratio=ratio),\n",
    "    \"drop_jongsung\": lambda text: drop_jongsung_sentence(text, count=count, ratio=ratio),\n",
    "    \"repeat_char\": lambda text: repeat_char_typo_no_space(text, count=count, ratio=ratio, max_repeat=max_repeat),\n",
    "    \"merge_words\": lambda text: merge_words_typo(text, count=count, ratio=ratio),\n",
    "    \"grammar_error\": lambda text: grammar_error(text, typo_dict, count=count, ratio=ratio),\n",
    "    \"swap_parts\": lambda text: swap_parts_in_sentence(text, count=count, ratio=ratio)\n",
    "}\n",
    "\n",
    "# 저장 폴더 만들기\n",
    "os.makedirs(save_dir, exist_ok=True)\n",
    "\n",
    "# 처리 시작\n",
    "for json_path in json_paths:\n",
    "    df = pd.read_json(json_path, lines=True)\n",
    "    base_filename = os.path.basename(json_path).replace(\".json\", \"\")  # 확장자 제거\n",
    "\n",
    "    if column in df.columns:\n",
    "        for typo_type in typo_types:\n",
    "            df_copy = df.copy()\n",
    "            df_copy[column] = df_copy[column].astype(str).apply(typo_funcs[typo_type])\n",
    "\n",
    "            save_name = f\"{base_filename}_{typo_type}.json\"  # ✅ 파일명 앞, 오타 뒤\n",
    "            save_path = os.path.join(save_dir, save_name)\n",
    "\n",
    "            df_copy.to_json(save_path, orient=\"records\", lines=True, force_ascii=False)\n",
    "            print(f\"✅ 저장 완료: {save_path}\")\n",
    "\n"
   ]
  },
  {
   "cell_type": "code",
   "execution_count": null,
   "id": "530c7d1a",
   "metadata": {},
   "outputs": [],
   "source": []
  }
 ],
 "metadata": {
  "kernelspec": {
   "display_name": "base",
   "language": "python",
   "name": "python3"
  },
  "language_info": {
   "codemirror_mode": {
    "name": "ipython",
    "version": 3
   },
   "file_extension": ".py",
   "mimetype": "text/x-python",
   "name": "python",
   "nbconvert_exporter": "python",
   "pygments_lexer": "ipython3",
   "version": "3.12.4"
  }
 },
 "nbformat": 4,
 "nbformat_minor": 5
}

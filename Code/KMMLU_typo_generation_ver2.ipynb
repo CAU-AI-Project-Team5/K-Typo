{
 "cells": [
  {
   "cell_type": "code",
   "execution_count": 9,
   "id": "97d48a7a",
   "metadata": {},
   "outputs": [
    {
     "name": "stdout",
     "output_type": "stream",
     "text": [
      "🔍 총 45개 카테고리 발견됨\n",
      "📥 Downloading: Accounting\n"
     ]
    },
    {
     "data": {
      "application/vnd.jupyter.widget-view+json": {
       "model_id": "642c488b2855462b9b902889f5464d5f",
       "version_major": 2,
       "version_minor": 0
      },
      "text/plain": [
       "Creating json from Arrow format:   0%|          | 0/1 [00:00<?, ?ba/s]"
      ]
     },
     "metadata": {},
     "output_type": "display_data"
    },
    {
     "name": "stdout",
     "output_type": "stream",
     "text": [
      "✅ 저장 완료: c:\\Users\\wogh0\\Documents\\GitHub\\K-Typo\\Code\\Datasets\\KMMLU_origin\\Accounting.json\n",
      "\n",
      "📥 Downloading: Agricultural-Sciences\n"
     ]
    },
    {
     "data": {
      "application/vnd.jupyter.widget-view+json": {
       "model_id": "37be3ae5d6294935b0cebc48bc125a3e",
       "version_major": 2,
       "version_minor": 0
      },
      "text/plain": [
       "Creating json from Arrow format:   0%|          | 0/1 [00:00<?, ?ba/s]"
      ]
     },
     "metadata": {},
     "output_type": "display_data"
    },
    {
     "name": "stdout",
     "output_type": "stream",
     "text": [
      "✅ 저장 완료: c:\\Users\\wogh0\\Documents\\GitHub\\K-Typo\\Code\\Datasets\\KMMLU_origin\\Agricultural-Sciences.json\n",
      "\n",
      "📥 Downloading: Aviation-Engineering-and-Maintenance\n"
     ]
    },
    {
     "data": {
      "application/vnd.jupyter.widget-view+json": {
       "model_id": "28aa6a063ffd47bf8b0871e2d9fda339",
       "version_major": 2,
       "version_minor": 0
      },
      "text/plain": [
       "Creating json from Arrow format:   0%|          | 0/1 [00:00<?, ?ba/s]"
      ]
     },
     "metadata": {},
     "output_type": "display_data"
    },
    {
     "name": "stdout",
     "output_type": "stream",
     "text": [
      "✅ 저장 완료: c:\\Users\\wogh0\\Documents\\GitHub\\K-Typo\\Code\\Datasets\\KMMLU_origin\\Aviation-Engineering-and-Maintenance.json\n",
      "\n",
      "📥 Downloading: Biology\n"
     ]
    },
    {
     "data": {
      "application/vnd.jupyter.widget-view+json": {
       "model_id": "3c3b2e3e199747ab8f65f9cec8c1dcf8",
       "version_major": 2,
       "version_minor": 0
      },
      "text/plain": [
       "Biology-train.csv:   0%|          | 0.00/931k [00:00<?, ?B/s]"
      ]
     },
     "metadata": {},
     "output_type": "display_data"
    },
    {
     "data": {
      "application/vnd.jupyter.widget-view+json": {
       "model_id": "dd8cb2e9befd41b2aff5ec19aa4f6ee7",
       "version_major": 2,
       "version_minor": 0
      },
      "text/plain": [
       "Biology-dev.csv:   0%|          | 0.00/949 [00:00<?, ?B/s]"
      ]
     },
     "metadata": {},
     "output_type": "display_data"
    },
    {
     "data": {
      "application/vnd.jupyter.widget-view+json": {
       "model_id": "e7e915b27dad4569ba6b6f0a3c468872",
       "version_major": 2,
       "version_minor": 0
      },
      "text/plain": [
       "Biology-test.csv:   0%|          | 0.00/215k [00:00<?, ?B/s]"
      ]
     },
     "metadata": {},
     "output_type": "display_data"
    },
    {
     "data": {
      "application/vnd.jupyter.widget-view+json": {
       "model_id": "6a08765f4d7a4ca0a0e84a5f3c9f4f3d",
       "version_major": 2,
       "version_minor": 0
      },
      "text/plain": [
       "Generating train split:   0%|          | 0/3980 [00:00<?, ? examples/s]"
      ]
     },
     "metadata": {},
     "output_type": "display_data"
    },
    {
     "data": {
      "application/vnd.jupyter.widget-view+json": {
       "model_id": "12cdc31cb22e4fd680998400f97307a5",
       "version_major": 2,
       "version_minor": 0
      },
      "text/plain": [
       "Generating dev split:   0%|          | 0/5 [00:00<?, ? examples/s]"
      ]
     },
     "metadata": {},
     "output_type": "display_data"
    },
    {
     "data": {
      "application/vnd.jupyter.widget-view+json": {
       "model_id": "8f5d2e61909e455eaf74067d58b403b2",
       "version_major": 2,
       "version_minor": 0
      },
      "text/plain": [
       "Generating test split:   0%|          | 0/1000 [00:00<?, ? examples/s]"
      ]
     },
     "metadata": {},
     "output_type": "display_data"
    },
    {
     "data": {
      "application/vnd.jupyter.widget-view+json": {
       "model_id": "1c5d1ea6d1af41e1bbb44db109d11560",
       "version_major": 2,
       "version_minor": 0
      },
      "text/plain": [
       "Creating json from Arrow format:   0%|          | 0/1 [00:00<?, ?ba/s]"
      ]
     },
     "metadata": {},
     "output_type": "display_data"
    },
    {
     "name": "stdout",
     "output_type": "stream",
     "text": [
      "✅ 저장 완료: c:\\Users\\wogh0\\Documents\\GitHub\\K-Typo\\Code\\Datasets\\KMMLU_origin\\Biology.json\n",
      "\n",
      "📥 Downloading: Chemical-Engineering\n"
     ]
    },
    {
     "data": {
      "application/vnd.jupyter.widget-view+json": {
       "model_id": "1bc2764f1a4f43a393d2b2d901021f2d",
       "version_major": 2,
       "version_minor": 0
      },
      "text/plain": [
       "Chemical-Engineering-train.csv:   0%|          | 0.00/244k [00:00<?, ?B/s]"
      ]
     },
     "metadata": {},
     "output_type": "display_data"
    },
    {
     "data": {
      "application/vnd.jupyter.widget-view+json": {
       "model_id": "055e66e6329a488fb54098af94ddc576",
       "version_major": 2,
       "version_minor": 0
      },
      "text/plain": [
       "Chemical-Engineering-dev.csv:   0%|          | 0.00/1.62k [00:00<?, ?B/s]"
      ]
     },
     "metadata": {},
     "output_type": "display_data"
    },
    {
     "data": {
      "application/vnd.jupyter.widget-view+json": {
       "model_id": "6ab54e35ae494e41868d9226775d5936",
       "version_major": 2,
       "version_minor": 0
      },
      "text/plain": [
       "Chemical-Engineering-test.csv:   0%|          | 0.00/283k [00:00<?, ?B/s]"
      ]
     },
     "metadata": {},
     "output_type": "display_data"
    },
    {
     "data": {
      "application/vnd.jupyter.widget-view+json": {
       "model_id": "826414367b234283bd87d84ada9e0e3a",
       "version_major": 2,
       "version_minor": 0
      },
      "text/plain": [
       "Generating train split:   0%|          | 0/833 [00:00<?, ? examples/s]"
      ]
     },
     "metadata": {},
     "output_type": "display_data"
    },
    {
     "data": {
      "application/vnd.jupyter.widget-view+json": {
       "model_id": "796a2e2e8b264ab0901ec5f681d2bf3f",
       "version_major": 2,
       "version_minor": 0
      },
      "text/plain": [
       "Generating dev split:   0%|          | 0/5 [00:00<?, ? examples/s]"
      ]
     },
     "metadata": {},
     "output_type": "display_data"
    },
    {
     "data": {
      "application/vnd.jupyter.widget-view+json": {
       "model_id": "1ae11bdd89464a2aac1b1c903162ee16",
       "version_major": 2,
       "version_minor": 0
      },
      "text/plain": [
       "Generating test split:   0%|          | 0/1000 [00:00<?, ? examples/s]"
      ]
     },
     "metadata": {},
     "output_type": "display_data"
    },
    {
     "data": {
      "application/vnd.jupyter.widget-view+json": {
       "model_id": "7733439c7cba4d1e80ddd88b709c7543",
       "version_major": 2,
       "version_minor": 0
      },
      "text/plain": [
       "Creating json from Arrow format:   0%|          | 0/1 [00:00<?, ?ba/s]"
      ]
     },
     "metadata": {},
     "output_type": "display_data"
    },
    {
     "name": "stdout",
     "output_type": "stream",
     "text": [
      "✅ 저장 완료: c:\\Users\\wogh0\\Documents\\GitHub\\K-Typo\\Code\\Datasets\\KMMLU_origin\\Chemical-Engineering.json\n",
      "\n",
      "📥 Downloading: Chemistry\n"
     ]
    },
    {
     "data": {
      "application/vnd.jupyter.widget-view+json": {
       "model_id": "28f9bd2450c44057a480a1a6bfff0250",
       "version_major": 2,
       "version_minor": 0
      },
      "text/plain": [
       "Chemistry-train.csv:   0%|          | 0.00/91.6k [00:00<?, ?B/s]"
      ]
     },
     "metadata": {},
     "output_type": "display_data"
    },
    {
     "data": {
      "application/vnd.jupyter.widget-view+json": {
       "model_id": "36d4463f089b4a54ad438346a87edf44",
       "version_major": 2,
       "version_minor": 0
      },
      "text/plain": [
       "Chemistry-dev.csv:   0%|          | 0.00/1.11k [00:00<?, ?B/s]"
      ]
     },
     "metadata": {},
     "output_type": "display_data"
    },
    {
     "data": {
      "application/vnd.jupyter.widget-view+json": {
       "model_id": "07de6e0269cd43848398c78c58ec189f",
       "version_major": 2,
       "version_minor": 0
      },
      "text/plain": [
       "Chemistry-test.csv:   0%|          | 0.00/179k [00:00<?, ?B/s]"
      ]
     },
     "metadata": {},
     "output_type": "display_data"
    },
    {
     "data": {
      "application/vnd.jupyter.widget-view+json": {
       "model_id": "884f518da12540e98ace1e50fcbd86f9",
       "version_major": 2,
       "version_minor": 0
      },
      "text/plain": [
       "Generating train split:   0%|          | 0/340 [00:00<?, ? examples/s]"
      ]
     },
     "metadata": {},
     "output_type": "display_data"
    },
    {
     "data": {
      "application/vnd.jupyter.widget-view+json": {
       "model_id": "ac3150f96f3b4834a4723375b0cd1b6b",
       "version_major": 2,
       "version_minor": 0
      },
      "text/plain": [
       "Generating dev split:   0%|          | 0/5 [00:00<?, ? examples/s]"
      ]
     },
     "metadata": {},
     "output_type": "display_data"
    },
    {
     "data": {
      "application/vnd.jupyter.widget-view+json": {
       "model_id": "93556bab21644abbacb63004469e21f8",
       "version_major": 2,
       "version_minor": 0
      },
      "text/plain": [
       "Generating test split:   0%|          | 0/600 [00:00<?, ? examples/s]"
      ]
     },
     "metadata": {},
     "output_type": "display_data"
    },
    {
     "data": {
      "application/vnd.jupyter.widget-view+json": {
       "model_id": "0a2261c42aa14bf296833cdf062fe21b",
       "version_major": 2,
       "version_minor": 0
      },
      "text/plain": [
       "Creating json from Arrow format:   0%|          | 0/1 [00:00<?, ?ba/s]"
      ]
     },
     "metadata": {},
     "output_type": "display_data"
    },
    {
     "name": "stdout",
     "output_type": "stream",
     "text": [
      "✅ 저장 완료: c:\\Users\\wogh0\\Documents\\GitHub\\K-Typo\\Code\\Datasets\\KMMLU_origin\\Chemistry.json\n",
      "\n",
      "📥 Downloading: Civil-Engineering\n"
     ]
    },
    {
     "data": {
      "application/vnd.jupyter.widget-view+json": {
       "model_id": "cf14f7a96f764426b68f948e9dfc25c0",
       "version_major": 2,
       "version_minor": 0
      },
      "text/plain": [
       "Civil-Engineering-train.csv:   0%|          | 0.00/2.96M [00:00<?, ?B/s]"
      ]
     },
     "metadata": {},
     "output_type": "display_data"
    },
    {
     "data": {
      "application/vnd.jupyter.widget-view+json": {
       "model_id": "cc8b05e7718b431cbbbb6ceedac30fe9",
       "version_major": 2,
       "version_minor": 0
      },
      "text/plain": [
       "Civil-Engineering-dev.csv:   0%|          | 0.00/1.84k [00:00<?, ?B/s]"
      ]
     },
     "metadata": {},
     "output_type": "display_data"
    },
    {
     "data": {
      "application/vnd.jupyter.widget-view+json": {
       "model_id": "fed7a45c3d44403dbb3f002f32ce602d",
       "version_major": 2,
       "version_minor": 0
      },
      "text/plain": [
       "Civil-Engineering-test.csv:   0%|          | 0.00/316k [00:00<?, ?B/s]"
      ]
     },
     "metadata": {},
     "output_type": "display_data"
    },
    {
     "data": {
      "application/vnd.jupyter.widget-view+json": {
       "model_id": "277ee7ee410d4d0f99b7de9382f0b31a",
       "version_major": 2,
       "version_minor": 0
      },
      "text/plain": [
       "Generating train split:   0%|          | 0/9359 [00:00<?, ? examples/s]"
      ]
     },
     "metadata": {},
     "output_type": "display_data"
    },
    {
     "data": {
      "application/vnd.jupyter.widget-view+json": {
       "model_id": "48b9072c7a8641ee8e137040af4f50e2",
       "version_major": 2,
       "version_minor": 0
      },
      "text/plain": [
       "Generating dev split:   0%|          | 0/5 [00:00<?, ? examples/s]"
      ]
     },
     "metadata": {},
     "output_type": "display_data"
    },
    {
     "data": {
      "application/vnd.jupyter.widget-view+json": {
       "model_id": "ca2d4489e71e4782a3b5d2e7b06caa60",
       "version_major": 2,
       "version_minor": 0
      },
      "text/plain": [
       "Generating test split:   0%|          | 0/1000 [00:00<?, ? examples/s]"
      ]
     },
     "metadata": {},
     "output_type": "display_data"
    },
    {
     "data": {
      "application/vnd.jupyter.widget-view+json": {
       "model_id": "706484ff485b425c84a9df04f8b7cf61",
       "version_major": 2,
       "version_minor": 0
      },
      "text/plain": [
       "Creating json from Arrow format:   0%|          | 0/1 [00:00<?, ?ba/s]"
      ]
     },
     "metadata": {},
     "output_type": "display_data"
    },
    {
     "name": "stdout",
     "output_type": "stream",
     "text": [
      "✅ 저장 완료: c:\\Users\\wogh0\\Documents\\GitHub\\K-Typo\\Code\\Datasets\\KMMLU_origin\\Civil-Engineering.json\n",
      "\n",
      "📥 Downloading: Computer-Science\n"
     ]
    },
    {
     "data": {
      "application/vnd.jupyter.widget-view+json": {
       "model_id": "5be007568f3d4dd8ba703aca2ef457ad",
       "version_major": 2,
       "version_minor": 0
      },
      "text/plain": [
       "Computer-Science-train.csv:   0%|          | 0.00/4.99M [00:00<?, ?B/s]"
      ]
     },
     "metadata": {},
     "output_type": "display_data"
    },
    {
     "data": {
      "application/vnd.jupyter.widget-view+json": {
       "model_id": "b0a20425291e4aa3a1b530ab8b83b952",
       "version_major": 2,
       "version_minor": 0
      },
      "text/plain": [
       "Computer-Science-dev.csv:   0%|          | 0.00/1.57k [00:00<?, ?B/s]"
      ]
     },
     "metadata": {},
     "output_type": "display_data"
    },
    {
     "data": {
      "application/vnd.jupyter.widget-view+json": {
       "model_id": "006d1e2128ab4983b07db71d0f8761f5",
       "version_major": 2,
       "version_minor": 0
      },
      "text/plain": [
       "Computer-Science-test.csv:   0%|          | 0.00/293k [00:00<?, ?B/s]"
      ]
     },
     "metadata": {},
     "output_type": "display_data"
    },
    {
     "data": {
      "application/vnd.jupyter.widget-view+json": {
       "model_id": "6ce60488a9ef4f60833c35924586f4e8",
       "version_major": 2,
       "version_minor": 0
      },
      "text/plain": [
       "Generating train split:   0%|          | 0/17373 [00:00<?, ? examples/s]"
      ]
     },
     "metadata": {},
     "output_type": "display_data"
    },
    {
     "data": {
      "application/vnd.jupyter.widget-view+json": {
       "model_id": "20aaf235d4db4550ad4d1a86ebba34e7",
       "version_major": 2,
       "version_minor": 0
      },
      "text/plain": [
       "Generating dev split:   0%|          | 0/5 [00:00<?, ? examples/s]"
      ]
     },
     "metadata": {},
     "output_type": "display_data"
    },
    {
     "data": {
      "application/vnd.jupyter.widget-view+json": {
       "model_id": "393feaedbadf4078874662dca0e5fac6",
       "version_major": 2,
       "version_minor": 0
      },
      "text/plain": [
       "Generating test split:   0%|          | 0/1000 [00:00<?, ? examples/s]"
      ]
     },
     "metadata": {},
     "output_type": "display_data"
    },
    {
     "data": {
      "application/vnd.jupyter.widget-view+json": {
       "model_id": "834977769cca4d9090b0ca12ad350d56",
       "version_major": 2,
       "version_minor": 0
      },
      "text/plain": [
       "Creating json from Arrow format:   0%|          | 0/1 [00:00<?, ?ba/s]"
      ]
     },
     "metadata": {},
     "output_type": "display_data"
    },
    {
     "name": "stdout",
     "output_type": "stream",
     "text": [
      "✅ 저장 완료: c:\\Users\\wogh0\\Documents\\GitHub\\K-Typo\\Code\\Datasets\\KMMLU_origin\\Computer-Science.json\n",
      "\n",
      "📥 Downloading: Construction\n"
     ]
    },
    {
     "data": {
      "application/vnd.jupyter.widget-view+json": {
       "model_id": "2b890c48546c47189a149c0531569d67",
       "version_major": 2,
       "version_minor": 0
      },
      "text/plain": [
       "Construction-train.csv:   0%|          | 0.00/5.73M [00:00<?, ?B/s]"
      ]
     },
     "metadata": {},
     "output_type": "display_data"
    },
    {
     "data": {
      "application/vnd.jupyter.widget-view+json": {
       "model_id": "b4be5d2851df4bf4abab07ea8f23a3b8",
       "version_major": 2,
       "version_minor": 0
      },
      "text/plain": [
       "Construction-dev.csv:   0%|          | 0.00/1.16k [00:00<?, ?B/s]"
      ]
     },
     "metadata": {},
     "output_type": "display_data"
    },
    {
     "data": {
      "application/vnd.jupyter.widget-view+json": {
       "model_id": "b66101101555412dbe1d213c434a9914",
       "version_major": 2,
       "version_minor": 0
      },
      "text/plain": [
       "Construction-test.csv:   0%|          | 0.00/297k [00:00<?, ?B/s]"
      ]
     },
     "metadata": {},
     "output_type": "display_data"
    },
    {
     "data": {
      "application/vnd.jupyter.widget-view+json": {
       "model_id": "030af58fef6548c9abc4a4d459faa186",
       "version_major": 2,
       "version_minor": 0
      },
      "text/plain": [
       "Generating train split:   0%|          | 0/19175 [00:00<?, ? examples/s]"
      ]
     },
     "metadata": {},
     "output_type": "display_data"
    },
    {
     "data": {
      "application/vnd.jupyter.widget-view+json": {
       "model_id": "0407741a2b1246a081cefc05a59a2ac6",
       "version_major": 2,
       "version_minor": 0
      },
      "text/plain": [
       "Generating dev split:   0%|          | 0/5 [00:00<?, ? examples/s]"
      ]
     },
     "metadata": {},
     "output_type": "display_data"
    },
    {
     "data": {
      "application/vnd.jupyter.widget-view+json": {
       "model_id": "fee8c4de27b545cd9b89ae86712fc6bd",
       "version_major": 2,
       "version_minor": 0
      },
      "text/plain": [
       "Generating test split:   0%|          | 0/1000 [00:00<?, ? examples/s]"
      ]
     },
     "metadata": {},
     "output_type": "display_data"
    },
    {
     "data": {
      "application/vnd.jupyter.widget-view+json": {
       "model_id": "0424b9a2afa74238b8dd6c9858229b6a",
       "version_major": 2,
       "version_minor": 0
      },
      "text/plain": [
       "Creating json from Arrow format:   0%|          | 0/1 [00:00<?, ?ba/s]"
      ]
     },
     "metadata": {},
     "output_type": "display_data"
    },
    {
     "name": "stdout",
     "output_type": "stream",
     "text": [
      "✅ 저장 완료: c:\\Users\\wogh0\\Documents\\GitHub\\K-Typo\\Code\\Datasets\\KMMLU_origin\\Construction.json\n",
      "\n",
      "📥 Downloading: Criminal-Law\n"
     ]
    },
    {
     "data": {
      "application/vnd.jupyter.widget-view+json": {
       "model_id": "566016893ede4f2892538350cc175fa6",
       "version_major": 2,
       "version_minor": 0
      },
      "text/plain": [
       "Criminal-Law-train.csv:   0%|          | 0.00/75.8k [00:00<?, ?B/s]"
      ]
     },
     "metadata": {},
     "output_type": "display_data"
    },
    {
     "data": {
      "application/vnd.jupyter.widget-view+json": {
       "model_id": "0dcc0a819db246d98ac71b6ea0ec6ff8",
       "version_major": 2,
       "version_minor": 0
      },
      "text/plain": [
       "Criminal-Law-dev.csv:   0%|          | 0.00/5.96k [00:00<?, ?B/s]"
      ]
     },
     "metadata": {},
     "output_type": "display_data"
    },
    {
     "data": {
      "application/vnd.jupyter.widget-view+json": {
       "model_id": "baa39c1d0f7d456c80d61d81d1ee5652",
       "version_major": 2,
       "version_minor": 0
      },
      "text/plain": [
       "Criminal-Law-test.csv:   0%|          | 0.00/177k [00:00<?, ?B/s]"
      ]
     },
     "metadata": {},
     "output_type": "display_data"
    },
    {
     "data": {
      "application/vnd.jupyter.widget-view+json": {
       "model_id": "6c14a0dddd4a437b980115400af88dc8",
       "version_major": 2,
       "version_minor": 0
      },
      "text/plain": [
       "Generating train split:   0%|          | 0/85 [00:00<?, ? examples/s]"
      ]
     },
     "metadata": {},
     "output_type": "display_data"
    },
    {
     "data": {
      "application/vnd.jupyter.widget-view+json": {
       "model_id": "30dc77639c9049198ee501885fc271df",
       "version_major": 2,
       "version_minor": 0
      },
      "text/plain": [
       "Generating dev split:   0%|          | 0/5 [00:00<?, ? examples/s]"
      ]
     },
     "metadata": {},
     "output_type": "display_data"
    },
    {
     "data": {
      "application/vnd.jupyter.widget-view+json": {
       "model_id": "57b017abbb3941ce8342fe1b7c0427b6",
       "version_major": 2,
       "version_minor": 0
      },
      "text/plain": [
       "Generating test split:   0%|          | 0/200 [00:00<?, ? examples/s]"
      ]
     },
     "metadata": {},
     "output_type": "display_data"
    },
    {
     "data": {
      "application/vnd.jupyter.widget-view+json": {
       "model_id": "5ddade5d73514eae883029db35e97417",
       "version_major": 2,
       "version_minor": 0
      },
      "text/plain": [
       "Creating json from Arrow format:   0%|          | 0/1 [00:00<?, ?ba/s]"
      ]
     },
     "metadata": {},
     "output_type": "display_data"
    },
    {
     "name": "stdout",
     "output_type": "stream",
     "text": [
      "✅ 저장 완료: c:\\Users\\wogh0\\Documents\\GitHub\\K-Typo\\Code\\Datasets\\KMMLU_origin\\Criminal-Law.json\n",
      "\n",
      "📥 Downloading: Ecology\n"
     ]
    },
    {
     "data": {
      "application/vnd.jupyter.widget-view+json": {
       "model_id": "0ab8b4d68fa0486883fc1bdb575a00a4",
       "version_major": 2,
       "version_minor": 0
      },
      "text/plain": [
       "Ecology-train.csv:   0%|          | 0.00/1.75M [00:00<?, ?B/s]"
      ]
     },
     "metadata": {},
     "output_type": "display_data"
    },
    {
     "data": {
      "application/vnd.jupyter.widget-view+json": {
       "model_id": "82d21dd438204fe4bd076778a4299d71",
       "version_major": 2,
       "version_minor": 0
      },
      "text/plain": [
       "Ecology-dev.csv:   0%|          | 0.00/1.61k [00:00<?, ?B/s]"
      ]
     },
     "metadata": {},
     "output_type": "display_data"
    },
    {
     "data": {
      "application/vnd.jupyter.widget-view+json": {
       "model_id": "3ca0dd5871944de4ba6f32ac903afd21",
       "version_major": 2,
       "version_minor": 0
      },
      "text/plain": [
       "Ecology-test.csv:   0%|          | 0.00/313k [00:00<?, ?B/s]"
      ]
     },
     "metadata": {},
     "output_type": "display_data"
    },
    {
     "data": {
      "application/vnd.jupyter.widget-view+json": {
       "model_id": "2cbf6e3b43a84dbc8ec21b87ba85c6bf",
       "version_major": 2,
       "version_minor": 0
      },
      "text/plain": [
       "Generating train split:   0%|          | 0/6432 [00:00<?, ? examples/s]"
      ]
     },
     "metadata": {},
     "output_type": "display_data"
    },
    {
     "data": {
      "application/vnd.jupyter.widget-view+json": {
       "model_id": "c4bf1ed957e242a2a0d63f5ca7d4360b",
       "version_major": 2,
       "version_minor": 0
      },
      "text/plain": [
       "Generating dev split:   0%|          | 0/5 [00:00<?, ? examples/s]"
      ]
     },
     "metadata": {},
     "output_type": "display_data"
    },
    {
     "data": {
      "application/vnd.jupyter.widget-view+json": {
       "model_id": "1fc7a9888e6247619821629068fc268e",
       "version_major": 2,
       "version_minor": 0
      },
      "text/plain": [
       "Generating test split:   0%|          | 0/1000 [00:00<?, ? examples/s]"
      ]
     },
     "metadata": {},
     "output_type": "display_data"
    },
    {
     "data": {
      "application/vnd.jupyter.widget-view+json": {
       "model_id": "2ab625158c054ce9960ebac4cace1cd5",
       "version_major": 2,
       "version_minor": 0
      },
      "text/plain": [
       "Creating json from Arrow format:   0%|          | 0/1 [00:00<?, ?ba/s]"
      ]
     },
     "metadata": {},
     "output_type": "display_data"
    },
    {
     "name": "stdout",
     "output_type": "stream",
     "text": [
      "✅ 저장 완료: c:\\Users\\wogh0\\Documents\\GitHub\\K-Typo\\Code\\Datasets\\KMMLU_origin\\Ecology.json\n",
      "\n",
      "📥 Downloading: Economics\n"
     ]
    },
    {
     "data": {
      "application/vnd.jupyter.widget-view+json": {
       "model_id": "f1a350957ecc4096b08d3553031e2040",
       "version_major": 2,
       "version_minor": 0
      },
      "text/plain": [
       "Economics-train.csv:   0%|          | 0.00/43.6k [00:00<?, ?B/s]"
      ]
     },
     "metadata": {},
     "output_type": "display_data"
    },
    {
     "data": {
      "application/vnd.jupyter.widget-view+json": {
       "model_id": "cc25fc6c027e4b66843782709c8ff193",
       "version_major": 2,
       "version_minor": 0
      },
      "text/plain": [
       "Economics-dev.csv:   0%|          | 0.00/2.03k [00:00<?, ?B/s]"
      ]
     },
     "metadata": {},
     "output_type": "display_data"
    },
    {
     "data": {
      "application/vnd.jupyter.widget-view+json": {
       "model_id": "b99898c861e942428480c3c3476f1198",
       "version_major": 2,
       "version_minor": 0
      },
      "text/plain": [
       "Economics-test.csv:   0%|          | 0.00/63.6k [00:00<?, ?B/s]"
      ]
     },
     "metadata": {},
     "output_type": "display_data"
    },
    {
     "data": {
      "application/vnd.jupyter.widget-view+json": {
       "model_id": "8ea729e7b45843f5a9bc582f35ebd447",
       "version_major": 2,
       "version_minor": 0
      },
      "text/plain": [
       "Generating train split:   0%|          | 0/94 [00:00<?, ? examples/s]"
      ]
     },
     "metadata": {},
     "output_type": "display_data"
    },
    {
     "data": {
      "application/vnd.jupyter.widget-view+json": {
       "model_id": "d9fac9d4364e4527802e141af8df4e9d",
       "version_major": 2,
       "version_minor": 0
      },
      "text/plain": [
       "Generating dev split:   0%|          | 0/5 [00:00<?, ? examples/s]"
      ]
     },
     "metadata": {},
     "output_type": "display_data"
    },
    {
     "data": {
      "application/vnd.jupyter.widget-view+json": {
       "model_id": "2c12a5efc46e4e1e8736274d1c84e20e",
       "version_major": 2,
       "version_minor": 0
      },
      "text/plain": [
       "Generating test split:   0%|          | 0/130 [00:00<?, ? examples/s]"
      ]
     },
     "metadata": {},
     "output_type": "display_data"
    },
    {
     "data": {
      "application/vnd.jupyter.widget-view+json": {
       "model_id": "d42eb948d16c4fe594e8c2d69cce1275",
       "version_major": 2,
       "version_minor": 0
      },
      "text/plain": [
       "Creating json from Arrow format:   0%|          | 0/1 [00:00<?, ?ba/s]"
      ]
     },
     "metadata": {},
     "output_type": "display_data"
    },
    {
     "name": "stdout",
     "output_type": "stream",
     "text": [
      "✅ 저장 완료: c:\\Users\\wogh0\\Documents\\GitHub\\K-Typo\\Code\\Datasets\\KMMLU_origin\\Economics.json\n",
      "\n",
      "📥 Downloading: Education\n"
     ]
    },
    {
     "data": {
      "application/vnd.jupyter.widget-view+json": {
       "model_id": "0453f7e79159494094f75d0dd61196e7",
       "version_major": 2,
       "version_minor": 0
      },
      "text/plain": [
       "Education-train.csv:   0%|          | 0.00/952 [00:00<?, ?B/s]"
      ]
     },
     "metadata": {},
     "output_type": "display_data"
    },
    {
     "data": {
      "application/vnd.jupyter.widget-view+json": {
       "model_id": "b9617649af254172bc90f459743694d1",
       "version_major": 2,
       "version_minor": 0
      },
      "text/plain": [
       "Education-dev.csv:   0%|          | 0.00/2.45k [00:00<?, ?B/s]"
      ]
     },
     "metadata": {},
     "output_type": "display_data"
    },
    {
     "data": {
      "application/vnd.jupyter.widget-view+json": {
       "model_id": "85f1d352b3144a04a7403a0e22b02fe2",
       "version_major": 2,
       "version_minor": 0
      },
      "text/plain": [
       "Education-test.csv:   0%|          | 0.00/47.5k [00:00<?, ?B/s]"
      ]
     },
     "metadata": {},
     "output_type": "display_data"
    },
    {
     "data": {
      "application/vnd.jupyter.widget-view+json": {
       "model_id": "ae62c9ee59b04691a98d3a268b6f1212",
       "version_major": 2,
       "version_minor": 0
      },
      "text/plain": [
       "Generating train split:   0%|          | 0/2 [00:00<?, ? examples/s]"
      ]
     },
     "metadata": {},
     "output_type": "display_data"
    },
    {
     "data": {
      "application/vnd.jupyter.widget-view+json": {
       "model_id": "f3fe6064f78f45ec95aea4a31a816245",
       "version_major": 2,
       "version_minor": 0
      },
      "text/plain": [
       "Generating dev split:   0%|          | 0/5 [00:00<?, ? examples/s]"
      ]
     },
     "metadata": {},
     "output_type": "display_data"
    },
    {
     "data": {
      "application/vnd.jupyter.widget-view+json": {
       "model_id": "d3b458694e4e4bebbdfa57d5c8dfab3b",
       "version_major": 2,
       "version_minor": 0
      },
      "text/plain": [
       "Generating test split:   0%|          | 0/100 [00:00<?, ? examples/s]"
      ]
     },
     "metadata": {},
     "output_type": "display_data"
    },
    {
     "data": {
      "application/vnd.jupyter.widget-view+json": {
       "model_id": "385ba7d0d9a947a3ad1031a558c6b579",
       "version_major": 2,
       "version_minor": 0
      },
      "text/plain": [
       "Creating json from Arrow format:   0%|          | 0/1 [00:00<?, ?ba/s]"
      ]
     },
     "metadata": {},
     "output_type": "display_data"
    },
    {
     "name": "stdout",
     "output_type": "stream",
     "text": [
      "✅ 저장 완료: c:\\Users\\wogh0\\Documents\\GitHub\\K-Typo\\Code\\Datasets\\KMMLU_origin\\Education.json\n",
      "\n",
      "📥 Downloading: Electrical-Engineering\n"
     ]
    },
    {
     "data": {
      "application/vnd.jupyter.widget-view+json": {
       "model_id": "e1f009d5657e4788bc88f350a5b4808a",
       "version_major": 2,
       "version_minor": 0
      },
      "text/plain": [
       "Electrical-Engineering-train.csv:   0%|          | 0.00/3.12M [00:00<?, ?B/s]"
      ]
     },
     "metadata": {},
     "output_type": "display_data"
    },
    {
     "data": {
      "application/vnd.jupyter.widget-view+json": {
       "model_id": "4ca0006f19b34967b37d2f7407a97bc9",
       "version_major": 2,
       "version_minor": 0
      },
      "text/plain": [
       "Electrical-Engineering-dev.csv:   0%|          | 0.00/1.32k [00:00<?, ?B/s]"
      ]
     },
     "metadata": {},
     "output_type": "display_data"
    },
    {
     "data": {
      "application/vnd.jupyter.widget-view+json": {
       "model_id": "54e4a28ea605430b90846b5305b93ddb",
       "version_major": 2,
       "version_minor": 0
      },
      "text/plain": [
       "Electrical-Engineering-test.csv:   0%|          | 0.00/260k [00:00<?, ?B/s]"
      ]
     },
     "metadata": {},
     "output_type": "display_data"
    },
    {
     "data": {
      "application/vnd.jupyter.widget-view+json": {
       "model_id": "66c59360ebbf47299c3bcbcb6a962945",
       "version_major": 2,
       "version_minor": 0
      },
      "text/plain": [
       "Generating train split:   0%|          | 0/11965 [00:00<?, ? examples/s]"
      ]
     },
     "metadata": {},
     "output_type": "display_data"
    },
    {
     "data": {
      "application/vnd.jupyter.widget-view+json": {
       "model_id": "e9a07301cf7e450b826faf10ae271a7c",
       "version_major": 2,
       "version_minor": 0
      },
      "text/plain": [
       "Generating dev split:   0%|          | 0/5 [00:00<?, ? examples/s]"
      ]
     },
     "metadata": {},
     "output_type": "display_data"
    },
    {
     "data": {
      "application/vnd.jupyter.widget-view+json": {
       "model_id": "73e5fd0a3b9d42099b55ded871cc16a5",
       "version_major": 2,
       "version_minor": 0
      },
      "text/plain": [
       "Generating test split:   0%|          | 0/1000 [00:00<?, ? examples/s]"
      ]
     },
     "metadata": {},
     "output_type": "display_data"
    },
    {
     "data": {
      "application/vnd.jupyter.widget-view+json": {
       "model_id": "060b383d6c1941f3a98cabf0fd8e8947",
       "version_major": 2,
       "version_minor": 0
      },
      "text/plain": [
       "Creating json from Arrow format:   0%|          | 0/1 [00:00<?, ?ba/s]"
      ]
     },
     "metadata": {},
     "output_type": "display_data"
    },
    {
     "name": "stdout",
     "output_type": "stream",
     "text": [
      "✅ 저장 완료: c:\\Users\\wogh0\\Documents\\GitHub\\K-Typo\\Code\\Datasets\\KMMLU_origin\\Electrical-Engineering.json\n",
      "\n",
      "📥 Downloading: Electronics-Engineering\n"
     ]
    },
    {
     "data": {
      "application/vnd.jupyter.widget-view+json": {
       "model_id": "23d4a73f278f4787897f2486bc551fa9",
       "version_major": 2,
       "version_minor": 0
      },
      "text/plain": [
       "Electronics-Engineering-train.csv:   0%|          | 0.00/1.17M [00:00<?, ?B/s]"
      ]
     },
     "metadata": {},
     "output_type": "display_data"
    },
    {
     "data": {
      "application/vnd.jupyter.widget-view+json": {
       "model_id": "c174f3711c1041deb0aa1ac023b17574",
       "version_major": 2,
       "version_minor": 0
      },
      "text/plain": [
       "Electronics-Engineering-dev.csv:   0%|          | 0.00/1.16k [00:00<?, ?B/s]"
      ]
     },
     "metadata": {},
     "output_type": "display_data"
    },
    {
     "data": {
      "application/vnd.jupyter.widget-view+json": {
       "model_id": "ffcc5595cb6c42fab3f543d5e83c47c6",
       "version_major": 2,
       "version_minor": 0
      },
      "text/plain": [
       "Electronics-Engineering-test.csv:   0%|          | 0.00/245k [00:00<?, ?B/s]"
      ]
     },
     "metadata": {},
     "output_type": "display_data"
    },
    {
     "data": {
      "application/vnd.jupyter.widget-view+json": {
       "model_id": "2e801ecc5b114336ac8331d78d9d2a18",
       "version_major": 2,
       "version_minor": 0
      },
      "text/plain": [
       "Generating train split:   0%|          | 0/4904 [00:00<?, ? examples/s]"
      ]
     },
     "metadata": {},
     "output_type": "display_data"
    },
    {
     "data": {
      "application/vnd.jupyter.widget-view+json": {
       "model_id": "56d6da4422f6487aae6e1412a53f7a9c",
       "version_major": 2,
       "version_minor": 0
      },
      "text/plain": [
       "Generating dev split:   0%|          | 0/5 [00:00<?, ? examples/s]"
      ]
     },
     "metadata": {},
     "output_type": "display_data"
    },
    {
     "data": {
      "application/vnd.jupyter.widget-view+json": {
       "model_id": "1c11c5d246e64741af2cb861a413a011",
       "version_major": 2,
       "version_minor": 0
      },
      "text/plain": [
       "Generating test split:   0%|          | 0/1000 [00:00<?, ? examples/s]"
      ]
     },
     "metadata": {},
     "output_type": "display_data"
    },
    {
     "data": {
      "application/vnd.jupyter.widget-view+json": {
       "model_id": "0c3373610e8b4c9da96ba677250e375b",
       "version_major": 2,
       "version_minor": 0
      },
      "text/plain": [
       "Creating json from Arrow format:   0%|          | 0/1 [00:00<?, ?ba/s]"
      ]
     },
     "metadata": {},
     "output_type": "display_data"
    },
    {
     "name": "stdout",
     "output_type": "stream",
     "text": [
      "✅ 저장 완료: c:\\Users\\wogh0\\Documents\\GitHub\\K-Typo\\Code\\Datasets\\KMMLU_origin\\Electronics-Engineering.json\n",
      "\n",
      "📥 Downloading: Energy-Management\n"
     ]
    },
    {
     "data": {
      "application/vnd.jupyter.widget-view+json": {
       "model_id": "3c77e175f78f4175929bf791ce988e03",
       "version_major": 2,
       "version_minor": 0
      },
      "text/plain": [
       "Energy-Management-train.csv:   0%|          | 0.00/1.51M [00:00<?, ?B/s]"
      ]
     },
     "metadata": {},
     "output_type": "display_data"
    },
    {
     "data": {
      "application/vnd.jupyter.widget-view+json": {
       "model_id": "e111f09967144abc8cf104587cf4b614",
       "version_major": 2,
       "version_minor": 0
      },
      "text/plain": [
       "Energy-Management-dev.csv:   0%|          | 0.00/1.47k [00:00<?, ?B/s]"
      ]
     },
     "metadata": {},
     "output_type": "display_data"
    },
    {
     "data": {
      "application/vnd.jupyter.widget-view+json": {
       "model_id": "9b22908ef1bd4a80b31dbb4acdaa0407",
       "version_major": 2,
       "version_minor": 0
      },
      "text/plain": [
       "Energy-Management-test.csv:   0%|          | 0.00/262k [00:00<?, ?B/s]"
      ]
     },
     "metadata": {},
     "output_type": "display_data"
    },
    {
     "data": {
      "application/vnd.jupyter.widget-view+json": {
       "model_id": "21cac03416ea41ca87a412370eabfd59",
       "version_major": 2,
       "version_minor": 0
      },
      "text/plain": [
       "Generating train split:   0%|          | 0/5499 [00:00<?, ? examples/s]"
      ]
     },
     "metadata": {},
     "output_type": "display_data"
    },
    {
     "data": {
      "application/vnd.jupyter.widget-view+json": {
       "model_id": "08837b5e8c5946c0b492ee398756ba2b",
       "version_major": 2,
       "version_minor": 0
      },
      "text/plain": [
       "Generating dev split:   0%|          | 0/5 [00:00<?, ? examples/s]"
      ]
     },
     "metadata": {},
     "output_type": "display_data"
    },
    {
     "data": {
      "application/vnd.jupyter.widget-view+json": {
       "model_id": "02db97a9a5454a96ad09271f54d6dd07",
       "version_major": 2,
       "version_minor": 0
      },
      "text/plain": [
       "Generating test split:   0%|          | 0/1000 [00:00<?, ? examples/s]"
      ]
     },
     "metadata": {},
     "output_type": "display_data"
    },
    {
     "data": {
      "application/vnd.jupyter.widget-view+json": {
       "model_id": "27abe9af80ea4472895518ebed90e8ec",
       "version_major": 2,
       "version_minor": 0
      },
      "text/plain": [
       "Creating json from Arrow format:   0%|          | 0/1 [00:00<?, ?ba/s]"
      ]
     },
     "metadata": {},
     "output_type": "display_data"
    },
    {
     "name": "stdout",
     "output_type": "stream",
     "text": [
      "✅ 저장 완료: c:\\Users\\wogh0\\Documents\\GitHub\\K-Typo\\Code\\Datasets\\KMMLU_origin\\Energy-Management.json\n",
      "\n",
      "📥 Downloading: Environmental-Science\n"
     ]
    },
    {
     "data": {
      "application/vnd.jupyter.widget-view+json": {
       "model_id": "1910bb7961f3463a818e68913e61d14b",
       "version_major": 2,
       "version_minor": 0
      },
      "text/plain": [
       "Environmental-Science-train.csv:   0%|          | 0.00/3.92M [00:00<?, ?B/s]"
      ]
     },
     "metadata": {},
     "output_type": "display_data"
    },
    {
     "data": {
      "application/vnd.jupyter.widget-view+json": {
       "model_id": "aade72af405745bf922fc79fdf5cbd7e",
       "version_major": 2,
       "version_minor": 0
      },
      "text/plain": [
       "Environmental-Science-dev.csv:   0%|          | 0.00/1.34k [00:00<?, ?B/s]"
      ]
     },
     "metadata": {},
     "output_type": "display_data"
    },
    {
     "data": {
      "application/vnd.jupyter.widget-view+json": {
       "model_id": "6dc6807149474ba28fac75839eef222c",
       "version_major": 2,
       "version_minor": 0
      },
      "text/plain": [
       "Environmental-Science-test.csv:   0%|          | 0.00/334k [00:00<?, ?B/s]"
      ]
     },
     "metadata": {},
     "output_type": "display_data"
    },
    {
     "data": {
      "application/vnd.jupyter.widget-view+json": {
       "model_id": "0614a3c8c0a44a3ea4c3e1c107798d57",
       "version_major": 2,
       "version_minor": 0
      },
      "text/plain": [
       "Generating train split:   0%|          | 0/12103 [00:00<?, ? examples/s]"
      ]
     },
     "metadata": {},
     "output_type": "display_data"
    },
    {
     "data": {
      "application/vnd.jupyter.widget-view+json": {
       "model_id": "0c70a0f390524e0d8928ca280f749457",
       "version_major": 2,
       "version_minor": 0
      },
      "text/plain": [
       "Generating dev split:   0%|          | 0/5 [00:00<?, ? examples/s]"
      ]
     },
     "metadata": {},
     "output_type": "display_data"
    },
    {
     "data": {
      "application/vnd.jupyter.widget-view+json": {
       "model_id": "1226d879a58d4decbdfeb0bc703fb312",
       "version_major": 2,
       "version_minor": 0
      },
      "text/plain": [
       "Generating test split:   0%|          | 0/1000 [00:00<?, ? examples/s]"
      ]
     },
     "metadata": {},
     "output_type": "display_data"
    },
    {
     "data": {
      "application/vnd.jupyter.widget-view+json": {
       "model_id": "2e75ba8d7a8f4331af563322334afeed",
       "version_major": 2,
       "version_minor": 0
      },
      "text/plain": [
       "Creating json from Arrow format:   0%|          | 0/1 [00:00<?, ?ba/s]"
      ]
     },
     "metadata": {},
     "output_type": "display_data"
    },
    {
     "name": "stdout",
     "output_type": "stream",
     "text": [
      "✅ 저장 완료: c:\\Users\\wogh0\\Documents\\GitHub\\K-Typo\\Code\\Datasets\\KMMLU_origin\\Environmental-Science.json\n",
      "\n",
      "📥 Downloading: Fashion\n"
     ]
    },
    {
     "data": {
      "application/vnd.jupyter.widget-view+json": {
       "model_id": "abb4c97e2168428791dbf35042933b60",
       "version_major": 2,
       "version_minor": 0
      },
      "text/plain": [
       "Fashion-train.csv:   0%|          | 0.00/378k [00:00<?, ?B/s]"
      ]
     },
     "metadata": {},
     "output_type": "display_data"
    },
    {
     "data": {
      "application/vnd.jupyter.widget-view+json": {
       "model_id": "c430348edf2a4d36afd6e56360b707e8",
       "version_major": 2,
       "version_minor": 0
      },
      "text/plain": [
       "Fashion-dev.csv:   0%|          | 0.00/1.49k [00:00<?, ?B/s]"
      ]
     },
     "metadata": {},
     "output_type": "display_data"
    },
    {
     "data": {
      "application/vnd.jupyter.widget-view+json": {
       "model_id": "52b7c0438f2f44aebaed6b22ac7b39b0",
       "version_major": 2,
       "version_minor": 0
      },
      "text/plain": [
       "Fashion-test.csv:   0%|          | 0.00/249k [00:00<?, ?B/s]"
      ]
     },
     "metadata": {},
     "output_type": "display_data"
    },
    {
     "data": {
      "application/vnd.jupyter.widget-view+json": {
       "model_id": "c2ab5ef68abb4e3b87c8da40465e487e",
       "version_major": 2,
       "version_minor": 0
      },
      "text/plain": [
       "Generating train split:   0%|          | 0/1558 [00:00<?, ? examples/s]"
      ]
     },
     "metadata": {},
     "output_type": "display_data"
    },
    {
     "data": {
      "application/vnd.jupyter.widget-view+json": {
       "model_id": "be6b720de34e438cb4edbb0fb4d932d1",
       "version_major": 2,
       "version_minor": 0
      },
      "text/plain": [
       "Generating dev split:   0%|          | 0/5 [00:00<?, ? examples/s]"
      ]
     },
     "metadata": {},
     "output_type": "display_data"
    },
    {
     "data": {
      "application/vnd.jupyter.widget-view+json": {
       "model_id": "1b71a09702e140a6ab1648c41d174c88",
       "version_major": 2,
       "version_minor": 0
      },
      "text/plain": [
       "Generating test split:   0%|          | 0/1000 [00:00<?, ? examples/s]"
      ]
     },
     "metadata": {},
     "output_type": "display_data"
    },
    {
     "data": {
      "application/vnd.jupyter.widget-view+json": {
       "model_id": "674476e4b79743aba4016eb5b03ad18d",
       "version_major": 2,
       "version_minor": 0
      },
      "text/plain": [
       "Creating json from Arrow format:   0%|          | 0/1 [00:00<?, ?ba/s]"
      ]
     },
     "metadata": {},
     "output_type": "display_data"
    },
    {
     "name": "stdout",
     "output_type": "stream",
     "text": [
      "✅ 저장 완료: c:\\Users\\wogh0\\Documents\\GitHub\\K-Typo\\Code\\Datasets\\KMMLU_origin\\Fashion.json\n",
      "\n",
      "📥 Downloading: Food-Processing\n"
     ]
    },
    {
     "data": {
      "application/vnd.jupyter.widget-view+json": {
       "model_id": "ebcb56505e8c455b8f73fef2a28cc4e7",
       "version_major": 2,
       "version_minor": 0
      },
      "text/plain": [
       "Food-Processing-train.csv:   0%|          | 0.00/3.69M [00:00<?, ?B/s]"
      ]
     },
     "metadata": {},
     "output_type": "display_data"
    },
    {
     "data": {
      "application/vnd.jupyter.widget-view+json": {
       "model_id": "72bcfa37ae46408f800e3d1985d5cfea",
       "version_major": 2,
       "version_minor": 0
      },
      "text/plain": [
       "Food-Processing-dev.csv:   0%|          | 0.00/683 [00:00<?, ?B/s]"
      ]
     },
     "metadata": {},
     "output_type": "display_data"
    },
    {
     "data": {
      "application/vnd.jupyter.widget-view+json": {
       "model_id": "54953f051f954c01a091b1303d77208b",
       "version_major": 2,
       "version_minor": 0
      },
      "text/plain": [
       "Food-Processing-test.csv:   0%|          | 0.00/268k [00:00<?, ?B/s]"
      ]
     },
     "metadata": {},
     "output_type": "display_data"
    },
    {
     "data": {
      "application/vnd.jupyter.widget-view+json": {
       "model_id": "e276dc4c7ce54fe7920b2bf41801ce0f",
       "version_major": 2,
       "version_minor": 0
      },
      "text/plain": [
       "Generating train split:   0%|          | 0/14630 [00:00<?, ? examples/s]"
      ]
     },
     "metadata": {},
     "output_type": "display_data"
    },
    {
     "data": {
      "application/vnd.jupyter.widget-view+json": {
       "model_id": "e00852f681f744b5adcc5f45a4317c91",
       "version_major": 2,
       "version_minor": 0
      },
      "text/plain": [
       "Generating dev split:   0%|          | 0/5 [00:00<?, ? examples/s]"
      ]
     },
     "metadata": {},
     "output_type": "display_data"
    },
    {
     "data": {
      "application/vnd.jupyter.widget-view+json": {
       "model_id": "0f7f1507faf342d8be0592a68a7b1e91",
       "version_major": 2,
       "version_minor": 0
      },
      "text/plain": [
       "Generating test split:   0%|          | 0/1000 [00:00<?, ? examples/s]"
      ]
     },
     "metadata": {},
     "output_type": "display_data"
    },
    {
     "data": {
      "application/vnd.jupyter.widget-view+json": {
       "model_id": "f6eef651376742c68047a29929e2a3e3",
       "version_major": 2,
       "version_minor": 0
      },
      "text/plain": [
       "Creating json from Arrow format:   0%|          | 0/1 [00:00<?, ?ba/s]"
      ]
     },
     "metadata": {},
     "output_type": "display_data"
    },
    {
     "name": "stdout",
     "output_type": "stream",
     "text": [
      "✅ 저장 완료: c:\\Users\\wogh0\\Documents\\GitHub\\K-Typo\\Code\\Datasets\\KMMLU_origin\\Food-Processing.json\n",
      "\n",
      "📥 Downloading: Gas-Technology-and-Engineering\n"
     ]
    },
    {
     "data": {
      "application/vnd.jupyter.widget-view+json": {
       "model_id": "cb92564e5f2b45e99a7cc7c74626afc5",
       "version_major": 2,
       "version_minor": 0
      },
      "text/plain": [
       "Gas-Technology-and-Engineering-train.csv:   0%|          | 0.00/1.75M [00:00<?, ?B/s]"
      ]
     },
     "metadata": {},
     "output_type": "display_data"
    },
    {
     "data": {
      "application/vnd.jupyter.widget-view+json": {
       "model_id": "11bb63c7ef664b3a9ad43c35bf9c718b",
       "version_major": 2,
       "version_minor": 0
      },
      "text/plain": [
       "Gas-Technology-and-Engineering-dev.csv:   0%|          | 0.00/1.61k [00:00<?, ?B/s]"
      ]
     },
     "metadata": {},
     "output_type": "display_data"
    },
    {
     "data": {
      "application/vnd.jupyter.widget-view+json": {
       "model_id": "13b5983083514d29b423eab00cd9e438",
       "version_major": 2,
       "version_minor": 0
      },
      "text/plain": [
       "Gas-Technology-and-Engineering-test.csv:   0%|          | 0.00/275k [00:00<?, ?B/s]"
      ]
     },
     "metadata": {},
     "output_type": "display_data"
    },
    {
     "data": {
      "application/vnd.jupyter.widget-view+json": {
       "model_id": "7e7113094b054339a52297a3c77a7b5d",
       "version_major": 2,
       "version_minor": 0
      },
      "text/plain": [
       "Generating train split:   0%|          | 0/6154 [00:00<?, ? examples/s]"
      ]
     },
     "metadata": {},
     "output_type": "display_data"
    },
    {
     "data": {
      "application/vnd.jupyter.widget-view+json": {
       "model_id": "09d89de0eb0c47ceac53425cc74e9dd4",
       "version_major": 2,
       "version_minor": 0
      },
      "text/plain": [
       "Generating dev split:   0%|          | 0/5 [00:00<?, ? examples/s]"
      ]
     },
     "metadata": {},
     "output_type": "display_data"
    },
    {
     "data": {
      "application/vnd.jupyter.widget-view+json": {
       "model_id": "1340c96ddf03491fb067897a37130243",
       "version_major": 2,
       "version_minor": 0
      },
      "text/plain": [
       "Generating test split:   0%|          | 0/1000 [00:00<?, ? examples/s]"
      ]
     },
     "metadata": {},
     "output_type": "display_data"
    },
    {
     "data": {
      "application/vnd.jupyter.widget-view+json": {
       "model_id": "1c5c61943de347618a2bedef8c9c1281",
       "version_major": 2,
       "version_minor": 0
      },
      "text/plain": [
       "Creating json from Arrow format:   0%|          | 0/1 [00:00<?, ?ba/s]"
      ]
     },
     "metadata": {},
     "output_type": "display_data"
    },
    {
     "name": "stdout",
     "output_type": "stream",
     "text": [
      "✅ 저장 완료: c:\\Users\\wogh0\\Documents\\GitHub\\K-Typo\\Code\\Datasets\\KMMLU_origin\\Gas-Technology-and-Engineering.json\n",
      "\n",
      "📥 Downloading: Geomatics\n"
     ]
    },
    {
     "data": {
      "application/vnd.jupyter.widget-view+json": {
       "model_id": "9ff65f6c05ac47c9bb65eb599760cad6",
       "version_major": 2,
       "version_minor": 0
      },
      "text/plain": [
       "Geomatics-train.csv:   0%|          | 0.00/1.26M [00:00<?, ?B/s]"
      ]
     },
     "metadata": {},
     "output_type": "display_data"
    },
    {
     "data": {
      "application/vnd.jupyter.widget-view+json": {
       "model_id": "76edabdd9959475f85fcd28c15744137",
       "version_major": 2,
       "version_minor": 0
      },
      "text/plain": [
       "Geomatics-dev.csv:   0%|          | 0.00/845 [00:00<?, ?B/s]"
      ]
     },
     "metadata": {},
     "output_type": "display_data"
    },
    {
     "data": {
      "application/vnd.jupyter.widget-view+json": {
       "model_id": "ac9bf4d3def247f7a7311ac3b283bc9f",
       "version_major": 2,
       "version_minor": 0
      },
      "text/plain": [
       "Geomatics-test.csv:   0%|          | 0.00/253k [00:00<?, ?B/s]"
      ]
     },
     "metadata": {},
     "output_type": "display_data"
    },
    {
     "data": {
      "application/vnd.jupyter.widget-view+json": {
       "model_id": "a2d12a6db19e46079ee27313168cc21d",
       "version_major": 2,
       "version_minor": 0
      },
      "text/plain": [
       "Generating train split:   0%|          | 0/4613 [00:00<?, ? examples/s]"
      ]
     },
     "metadata": {},
     "output_type": "display_data"
    },
    {
     "data": {
      "application/vnd.jupyter.widget-view+json": {
       "model_id": "98f182a505a946ed8ce9e0574f84f2e7",
       "version_major": 2,
       "version_minor": 0
      },
      "text/plain": [
       "Generating dev split:   0%|          | 0/5 [00:00<?, ? examples/s]"
      ]
     },
     "metadata": {},
     "output_type": "display_data"
    },
    {
     "data": {
      "application/vnd.jupyter.widget-view+json": {
       "model_id": "44a8f559f4f349bd8a34db32cfc1354e",
       "version_major": 2,
       "version_minor": 0
      },
      "text/plain": [
       "Generating test split:   0%|          | 0/1000 [00:00<?, ? examples/s]"
      ]
     },
     "metadata": {},
     "output_type": "display_data"
    },
    {
     "data": {
      "application/vnd.jupyter.widget-view+json": {
       "model_id": "205bbe53ac0d414c98defd541fc3e2b5",
       "version_major": 2,
       "version_minor": 0
      },
      "text/plain": [
       "Creating json from Arrow format:   0%|          | 0/1 [00:00<?, ?ba/s]"
      ]
     },
     "metadata": {},
     "output_type": "display_data"
    },
    {
     "name": "stdout",
     "output_type": "stream",
     "text": [
      "✅ 저장 완료: c:\\Users\\wogh0\\Documents\\GitHub\\K-Typo\\Code\\Datasets\\KMMLU_origin\\Geomatics.json\n",
      "\n",
      "📥 Downloading: Health\n"
     ]
    },
    {
     "data": {
      "application/vnd.jupyter.widget-view+json": {
       "model_id": "fd90c466eefa4edfabc96ea114ee2087",
       "version_major": 2,
       "version_minor": 0
      },
      "text/plain": [
       "Health-train.csv:   0%|          | 0.00/1.28k [00:00<?, ?B/s]"
      ]
     },
     "metadata": {},
     "output_type": "display_data"
    },
    {
     "data": {
      "application/vnd.jupyter.widget-view+json": {
       "model_id": "dd53740d9e794f4dbbaf4303587154fc",
       "version_major": 2,
       "version_minor": 0
      },
      "text/plain": [
       "Health-dev.csv:   0%|          | 0.00/1.86k [00:00<?, ?B/s]"
      ]
     },
     "metadata": {},
     "output_type": "display_data"
    },
    {
     "data": {
      "application/vnd.jupyter.widget-view+json": {
       "model_id": "b8d3cd66754143c38e4b1eae306d4c6c",
       "version_major": 2,
       "version_minor": 0
      },
      "text/plain": [
       "Health-test.csv:   0%|          | 0.00/37.9k [00:00<?, ?B/s]"
      ]
     },
     "metadata": {},
     "output_type": "display_data"
    },
    {
     "data": {
      "application/vnd.jupyter.widget-view+json": {
       "model_id": "d8cbb2f93a344486bf3896fd2ce3967f",
       "version_major": 2,
       "version_minor": 0
      },
      "text/plain": [
       "Generating train split:   0%|          | 0/3 [00:00<?, ? examples/s]"
      ]
     },
     "metadata": {},
     "output_type": "display_data"
    },
    {
     "data": {
      "application/vnd.jupyter.widget-view+json": {
       "model_id": "c03e1299e6fd49aeb74ca89daede8249",
       "version_major": 2,
       "version_minor": 0
      },
      "text/plain": [
       "Generating dev split:   0%|          | 0/5 [00:00<?, ? examples/s]"
      ]
     },
     "metadata": {},
     "output_type": "display_data"
    },
    {
     "data": {
      "application/vnd.jupyter.widget-view+json": {
       "model_id": "e37c5aada28f4aa49a018c58779e830b",
       "version_major": 2,
       "version_minor": 0
      },
      "text/plain": [
       "Generating test split:   0%|          | 0/100 [00:00<?, ? examples/s]"
      ]
     },
     "metadata": {},
     "output_type": "display_data"
    },
    {
     "data": {
      "application/vnd.jupyter.widget-view+json": {
       "model_id": "f399e63e82c8401c86f985ff96fab012",
       "version_major": 2,
       "version_minor": 0
      },
      "text/plain": [
       "Creating json from Arrow format:   0%|          | 0/1 [00:00<?, ?ba/s]"
      ]
     },
     "metadata": {},
     "output_type": "display_data"
    },
    {
     "name": "stdout",
     "output_type": "stream",
     "text": [
      "✅ 저장 완료: c:\\Users\\wogh0\\Documents\\GitHub\\K-Typo\\Code\\Datasets\\KMMLU_origin\\Health.json\n",
      "\n",
      "📥 Downloading: Industrial-Engineer\n"
     ]
    },
    {
     "data": {
      "application/vnd.jupyter.widget-view+json": {
       "model_id": "394b6101f8fb438bb913eb81c760ef22",
       "version_major": 2,
       "version_minor": 0
      },
      "text/plain": [
       "Industrial-Engineer-train.csv:   0%|          | 0.00/4.69M [00:00<?, ?B/s]"
      ]
     },
     "metadata": {},
     "output_type": "display_data"
    },
    {
     "data": {
      "application/vnd.jupyter.widget-view+json": {
       "model_id": "a2e33d2656d9472ca46e84148875fe6e",
       "version_major": 2,
       "version_minor": 0
      },
      "text/plain": [
       "Industrial-Engineer-dev.csv:   0%|          | 0.00/1.09k [00:00<?, ?B/s]"
      ]
     },
     "metadata": {},
     "output_type": "display_data"
    },
    {
     "data": {
      "application/vnd.jupyter.widget-view+json": {
       "model_id": "703b7cc0051542ce8794097c3c6592cd",
       "version_major": 2,
       "version_minor": 0
      },
      "text/plain": [
       "Industrial-Engineer-test.csv:   0%|          | 0.00/272k [00:00<?, ?B/s]"
      ]
     },
     "metadata": {},
     "output_type": "display_data"
    },
    {
     "data": {
      "application/vnd.jupyter.widget-view+json": {
       "model_id": "1de81620b14345b5889ac90b4282fd78",
       "version_major": 2,
       "version_minor": 0
      },
      "text/plain": [
       "Generating train split:   0%|          | 0/16642 [00:00<?, ? examples/s]"
      ]
     },
     "metadata": {},
     "output_type": "display_data"
    },
    {
     "data": {
      "application/vnd.jupyter.widget-view+json": {
       "model_id": "68b1b2c263c14697bb4d1b6f31482b72",
       "version_major": 2,
       "version_minor": 0
      },
      "text/plain": [
       "Generating dev split:   0%|          | 0/5 [00:00<?, ? examples/s]"
      ]
     },
     "metadata": {},
     "output_type": "display_data"
    },
    {
     "data": {
      "application/vnd.jupyter.widget-view+json": {
       "model_id": "57a2c7c7ff52424eb9c0f1d4c6cc6d77",
       "version_major": 2,
       "version_minor": 0
      },
      "text/plain": [
       "Generating test split:   0%|          | 0/1000 [00:00<?, ? examples/s]"
      ]
     },
     "metadata": {},
     "output_type": "display_data"
    },
    {
     "data": {
      "application/vnd.jupyter.widget-view+json": {
       "model_id": "2cc0f82ad2e9410590e0bb55a9f92dc5",
       "version_major": 2,
       "version_minor": 0
      },
      "text/plain": [
       "Creating json from Arrow format:   0%|          | 0/1 [00:00<?, ?ba/s]"
      ]
     },
     "metadata": {},
     "output_type": "display_data"
    },
    {
     "name": "stdout",
     "output_type": "stream",
     "text": [
      "✅ 저장 완료: c:\\Users\\wogh0\\Documents\\GitHub\\K-Typo\\Code\\Datasets\\KMMLU_origin\\Industrial-Engineer.json\n",
      "\n",
      "📥 Downloading: Information-Technology\n"
     ]
    },
    {
     "data": {
      "application/vnd.jupyter.widget-view+json": {
       "model_id": "2f251b150ff340eaa8bc258ed6302320",
       "version_major": 2,
       "version_minor": 0
      },
      "text/plain": [
       "Information-Technology-train.csv:   0%|          | 0.00/1.01M [00:00<?, ?B/s]"
      ]
     },
     "metadata": {},
     "output_type": "display_data"
    },
    {
     "data": {
      "application/vnd.jupyter.widget-view+json": {
       "model_id": "0882b43ad33f415ca63c519dca37cc22",
       "version_major": 2,
       "version_minor": 0
      },
      "text/plain": [
       "Information-Technology-dev.csv:   0%|          | 0.00/1.53k [00:00<?, ?B/s]"
      ]
     },
     "metadata": {},
     "output_type": "display_data"
    },
    {
     "data": {
      "application/vnd.jupyter.widget-view+json": {
       "model_id": "5d58beb3813f4c5eb20454656850ce64",
       "version_major": 2,
       "version_minor": 0
      },
      "text/plain": [
       "Information-Technology-test.csv:   0%|          | 0.00/260k [00:00<?, ?B/s]"
      ]
     },
     "metadata": {},
     "output_type": "display_data"
    },
    {
     "data": {
      "application/vnd.jupyter.widget-view+json": {
       "model_id": "a846ad58a56a4910a5919ff792f1e2a7",
       "version_major": 2,
       "version_minor": 0
      },
      "text/plain": [
       "Generating train split:   0%|          | 0/3684 [00:00<?, ? examples/s]"
      ]
     },
     "metadata": {},
     "output_type": "display_data"
    },
    {
     "data": {
      "application/vnd.jupyter.widget-view+json": {
       "model_id": "820a0f9ddd464415961df3cebe9e59e9",
       "version_major": 2,
       "version_minor": 0
      },
      "text/plain": [
       "Generating dev split:   0%|          | 0/5 [00:00<?, ? examples/s]"
      ]
     },
     "metadata": {},
     "output_type": "display_data"
    },
    {
     "data": {
      "application/vnd.jupyter.widget-view+json": {
       "model_id": "e95c0514bf664f35a102a04207afd80d",
       "version_major": 2,
       "version_minor": 0
      },
      "text/plain": [
       "Generating test split:   0%|          | 0/1000 [00:00<?, ? examples/s]"
      ]
     },
     "metadata": {},
     "output_type": "display_data"
    },
    {
     "data": {
      "application/vnd.jupyter.widget-view+json": {
       "model_id": "c46a614382d24ae5b08e0ae108b2e9a1",
       "version_major": 2,
       "version_minor": 0
      },
      "text/plain": [
       "Creating json from Arrow format:   0%|          | 0/1 [00:00<?, ?ba/s]"
      ]
     },
     "metadata": {},
     "output_type": "display_data"
    },
    {
     "name": "stdout",
     "output_type": "stream",
     "text": [
      "✅ 저장 완료: c:\\Users\\wogh0\\Documents\\GitHub\\K-Typo\\Code\\Datasets\\KMMLU_origin\\Information-Technology.json\n",
      "\n",
      "📥 Downloading: Interior-Architecture-and-Design\n"
     ]
    },
    {
     "data": {
      "application/vnd.jupyter.widget-view+json": {
       "model_id": "a5fab0579ee64509a2d04a5730273174",
       "version_major": 2,
       "version_minor": 0
      },
      "text/plain": [
       "(…)terior-Architecture-and-Design-train.csv:   0%|          | 0.00/1.23M [00:00<?, ?B/s]"
      ]
     },
     "metadata": {},
     "output_type": "display_data"
    },
    {
     "data": {
      "application/vnd.jupyter.widget-view+json": {
       "model_id": "13e214c5574647a281f27b5322cf7577",
       "version_major": 2,
       "version_minor": 0
      },
      "text/plain": [
       "Interior-Architecture-and-Design-dev.csv:   0%|          | 0.00/2.12k [00:00<?, ?B/s]"
      ]
     },
     "metadata": {},
     "output_type": "display_data"
    },
    {
     "data": {
      "application/vnd.jupyter.widget-view+json": {
       "model_id": "c28d51a892a64f1383956c6ca8c97f02",
       "version_major": 2,
       "version_minor": 0
      },
      "text/plain": [
       "(…)nterior-Architecture-and-Design-test.csv:   0%|          | 0.00/301k [00:00<?, ?B/s]"
      ]
     },
     "metadata": {},
     "output_type": "display_data"
    },
    {
     "data": {
      "application/vnd.jupyter.widget-view+json": {
       "model_id": "7208e66edaf64c448ac6874ec5842bca",
       "version_major": 2,
       "version_minor": 0
      },
      "text/plain": [
       "Generating train split:   0%|          | 0/3922 [00:00<?, ? examples/s]"
      ]
     },
     "metadata": {},
     "output_type": "display_data"
    },
    {
     "data": {
      "application/vnd.jupyter.widget-view+json": {
       "model_id": "0bc5de61af384dbb86ef8e1a51d531ac",
       "version_major": 2,
       "version_minor": 0
      },
      "text/plain": [
       "Generating dev split:   0%|          | 0/5 [00:00<?, ? examples/s]"
      ]
     },
     "metadata": {},
     "output_type": "display_data"
    },
    {
     "data": {
      "application/vnd.jupyter.widget-view+json": {
       "model_id": "68a16b0698294e8f81cccf53da0c56f3",
       "version_major": 2,
       "version_minor": 0
      },
      "text/plain": [
       "Generating test split:   0%|          | 0/1000 [00:00<?, ? examples/s]"
      ]
     },
     "metadata": {},
     "output_type": "display_data"
    },
    {
     "data": {
      "application/vnd.jupyter.widget-view+json": {
       "model_id": "cc24e3c45b2f4f3d80c6804c4525e4c9",
       "version_major": 2,
       "version_minor": 0
      },
      "text/plain": [
       "Creating json from Arrow format:   0%|          | 0/1 [00:00<?, ?ba/s]"
      ]
     },
     "metadata": {},
     "output_type": "display_data"
    },
    {
     "name": "stdout",
     "output_type": "stream",
     "text": [
      "✅ 저장 완료: c:\\Users\\wogh0\\Documents\\GitHub\\K-Typo\\Code\\Datasets\\KMMLU_origin\\Interior-Architecture-and-Design.json\n",
      "\n",
      "📥 Downloading: Law\n"
     ]
    },
    {
     "data": {
      "application/vnd.jupyter.widget-view+json": {
       "model_id": "d35d832a9d8a46a99c7ecf7e3ca412c2",
       "version_major": 2,
       "version_minor": 0
      },
      "text/plain": [
       "Law-train.csv:   0%|          | 0.00/877k [00:00<?, ?B/s]"
      ]
     },
     "metadata": {},
     "output_type": "display_data"
    },
    {
     "data": {
      "application/vnd.jupyter.widget-view+json": {
       "model_id": "d8bb7f799cc24576b72561de9d12bd14",
       "version_major": 2,
       "version_minor": 0
      },
      "text/plain": [
       "Law-dev.csv:   0%|          | 0.00/2.12k [00:00<?, ?B/s]"
      ]
     },
     "metadata": {},
     "output_type": "display_data"
    },
    {
     "data": {
      "application/vnd.jupyter.widget-view+json": {
       "model_id": "1916c7c78f424fe0ae3a631ad4b20b39",
       "version_major": 2,
       "version_minor": 0
      },
      "text/plain": [
       "Law-test.csv:   0%|          | 0.00/512k [00:00<?, ?B/s]"
      ]
     },
     "metadata": {},
     "output_type": "display_data"
    },
    {
     "data": {
      "application/vnd.jupyter.widget-view+json": {
       "model_id": "5196bcb17fe54c4e93e84727abfa7186",
       "version_major": 2,
       "version_minor": 0
      },
      "text/plain": [
       "Generating train split:   0%|          | 0/1297 [00:00<?, ? examples/s]"
      ]
     },
     "metadata": {},
     "output_type": "display_data"
    },
    {
     "data": {
      "application/vnd.jupyter.widget-view+json": {
       "model_id": "f55a36b9c3694720b33760871eb8be1d",
       "version_major": 2,
       "version_minor": 0
      },
      "text/plain": [
       "Generating dev split:   0%|          | 0/5 [00:00<?, ? examples/s]"
      ]
     },
     "metadata": {},
     "output_type": "display_data"
    },
    {
     "data": {
      "application/vnd.jupyter.widget-view+json": {
       "model_id": "d471f72bc4674c66ad16f0c50a7616db",
       "version_major": 2,
       "version_minor": 0
      },
      "text/plain": [
       "Generating test split:   0%|          | 0/1000 [00:00<?, ? examples/s]"
      ]
     },
     "metadata": {},
     "output_type": "display_data"
    },
    {
     "data": {
      "application/vnd.jupyter.widget-view+json": {
       "model_id": "731ada3cdf4a4c85985b3960a41a12d4",
       "version_major": 2,
       "version_minor": 0
      },
      "text/plain": [
       "Creating json from Arrow format:   0%|          | 0/1 [00:00<?, ?ba/s]"
      ]
     },
     "metadata": {},
     "output_type": "display_data"
    },
    {
     "name": "stdout",
     "output_type": "stream",
     "text": [
      "✅ 저장 완료: c:\\Users\\wogh0\\Documents\\GitHub\\K-Typo\\Code\\Datasets\\KMMLU_origin\\Law.json\n",
      "\n",
      "📥 Downloading: Machine-Design-and-Manufacturing\n"
     ]
    },
    {
     "data": {
      "application/vnd.jupyter.widget-view+json": {
       "model_id": "e032abeabb164c43bc1472eb67a59c28",
       "version_major": 2,
       "version_minor": 0
      },
      "text/plain": [
       "(…)chine-Design-and-Manufacturing-train.csv:   0%|          | 0.00/2.02M [00:00<?, ?B/s]"
      ]
     },
     "metadata": {},
     "output_type": "display_data"
    },
    {
     "data": {
      "application/vnd.jupyter.widget-view+json": {
       "model_id": "661c321f3be842c2b19e7a0d11899fbb",
       "version_major": 2,
       "version_minor": 0
      },
      "text/plain": [
       "Machine-Design-and-Manufacturing-dev.csv:   0%|          | 0.00/1.34k [00:00<?, ?B/s]"
      ]
     },
     "metadata": {},
     "output_type": "display_data"
    },
    {
     "data": {
      "application/vnd.jupyter.widget-view+json": {
       "model_id": "52a016c0dd044c978b6617a09c612d8c",
       "version_major": 2,
       "version_minor": 0
      },
      "text/plain": [
       "(…)achine-Design-and-Manufacturing-test.csv:   0%|          | 0.00/253k [00:00<?, ?B/s]"
      ]
     },
     "metadata": {},
     "output_type": "display_data"
    },
    {
     "data": {
      "application/vnd.jupyter.widget-view+json": {
       "model_id": "a1292682111e4906aa62b19419531757",
       "version_major": 2,
       "version_minor": 0
      },
      "text/plain": [
       "Generating train split:   0%|          | 0/7636 [00:00<?, ? examples/s]"
      ]
     },
     "metadata": {},
     "output_type": "display_data"
    },
    {
     "data": {
      "application/vnd.jupyter.widget-view+json": {
       "model_id": "bdd7186d2f624c669563072712a1da00",
       "version_major": 2,
       "version_minor": 0
      },
      "text/plain": [
       "Generating dev split:   0%|          | 0/5 [00:00<?, ? examples/s]"
      ]
     },
     "metadata": {},
     "output_type": "display_data"
    },
    {
     "data": {
      "application/vnd.jupyter.widget-view+json": {
       "model_id": "9daed4f7d5704b05b7642869a319fc00",
       "version_major": 2,
       "version_minor": 0
      },
      "text/plain": [
       "Generating test split:   0%|          | 0/1000 [00:00<?, ? examples/s]"
      ]
     },
     "metadata": {},
     "output_type": "display_data"
    },
    {
     "data": {
      "application/vnd.jupyter.widget-view+json": {
       "model_id": "266848d9eb374cc7a088842d8b09a8c1",
       "version_major": 2,
       "version_minor": 0
      },
      "text/plain": [
       "Creating json from Arrow format:   0%|          | 0/1 [00:00<?, ?ba/s]"
      ]
     },
     "metadata": {},
     "output_type": "display_data"
    },
    {
     "name": "stdout",
     "output_type": "stream",
     "text": [
      "✅ 저장 완료: c:\\Users\\wogh0\\Documents\\GitHub\\K-Typo\\Code\\Datasets\\KMMLU_origin\\Machine-Design-and-Manufacturing.json\n",
      "\n",
      "📥 Downloading: Management\n"
     ]
    },
    {
     "data": {
      "application/vnd.jupyter.widget-view+json": {
       "model_id": "2aa58eaace254b69b3a3d146cf830f48",
       "version_major": 2,
       "version_minor": 0
      },
      "text/plain": [
       "Management-train.csv:   0%|          | 0.00/618k [00:00<?, ?B/s]"
      ]
     },
     "metadata": {},
     "output_type": "display_data"
    },
    {
     "data": {
      "application/vnd.jupyter.widget-view+json": {
       "model_id": "4756c06376ce471ba40f0714454036ad",
       "version_major": 2,
       "version_minor": 0
      },
      "text/plain": [
       "Management-dev.csv:   0%|          | 0.00/2.93k [00:00<?, ?B/s]"
      ]
     },
     "metadata": {},
     "output_type": "display_data"
    },
    {
     "data": {
      "application/vnd.jupyter.widget-view+json": {
       "model_id": "aa70c4ede407438b96641e83db9d4c12",
       "version_major": 2,
       "version_minor": 0
      },
      "text/plain": [
       "Management-test.csv:   0%|          | 0.00/456k [00:00<?, ?B/s]"
      ]
     },
     "metadata": {},
     "output_type": "display_data"
    },
    {
     "data": {
      "application/vnd.jupyter.widget-view+json": {
       "model_id": "a55c36c67c804573b522a0ac967bea14",
       "version_major": 2,
       "version_minor": 0
      },
      "text/plain": [
       "Generating train split:   0%|          | 0/1371 [00:00<?, ? examples/s]"
      ]
     },
     "metadata": {},
     "output_type": "display_data"
    },
    {
     "data": {
      "application/vnd.jupyter.widget-view+json": {
       "model_id": "ce46110c818c490fa54a05d686451776",
       "version_major": 2,
       "version_minor": 0
      },
      "text/plain": [
       "Generating dev split:   0%|          | 0/5 [00:00<?, ? examples/s]"
      ]
     },
     "metadata": {},
     "output_type": "display_data"
    },
    {
     "data": {
      "application/vnd.jupyter.widget-view+json": {
       "model_id": "a7a843070bd0400391a783a5023f37d7",
       "version_major": 2,
       "version_minor": 0
      },
      "text/plain": [
       "Generating test split:   0%|          | 0/1000 [00:00<?, ? examples/s]"
      ]
     },
     "metadata": {},
     "output_type": "display_data"
    },
    {
     "data": {
      "application/vnd.jupyter.widget-view+json": {
       "model_id": "75602413e03f467f8d2663e5fe106803",
       "version_major": 2,
       "version_minor": 0
      },
      "text/plain": [
       "Creating json from Arrow format:   0%|          | 0/1 [00:00<?, ?ba/s]"
      ]
     },
     "metadata": {},
     "output_type": "display_data"
    },
    {
     "name": "stdout",
     "output_type": "stream",
     "text": [
      "✅ 저장 완료: c:\\Users\\wogh0\\Documents\\GitHub\\K-Typo\\Code\\Datasets\\KMMLU_origin\\Management.json\n",
      "\n",
      "📥 Downloading: Maritime-Engineering\n"
     ]
    },
    {
     "data": {
      "application/vnd.jupyter.widget-view+json": {
       "model_id": "054715ca041d4378aa08dd4e97bbc8f9",
       "version_major": 2,
       "version_minor": 0
      },
      "text/plain": [
       "Maritime-Engineering-train.csv:   0%|          | 0.00/77.3k [00:00<?, ?B/s]"
      ]
     },
     "metadata": {},
     "output_type": "display_data"
    },
    {
     "data": {
      "application/vnd.jupyter.widget-view+json": {
       "model_id": "f58351a0e614489a907e5c4cc5ae6e36",
       "version_major": 2,
       "version_minor": 0
      },
      "text/plain": [
       "Maritime-Engineering-dev.csv:   0%|          | 0.00/1.15k [00:00<?, ?B/s]"
      ]
     },
     "metadata": {},
     "output_type": "display_data"
    },
    {
     "data": {
      "application/vnd.jupyter.widget-view+json": {
       "model_id": "59c40c1acc234edebb88e9a9a8c6b623",
       "version_major": 2,
       "version_minor": 0
      },
      "text/plain": [
       "Maritime-Engineering-test.csv:   0%|          | 0.00/150k [00:00<?, ?B/s]"
      ]
     },
     "metadata": {},
     "output_type": "display_data"
    },
    {
     "data": {
      "application/vnd.jupyter.widget-view+json": {
       "model_id": "18a9ea3fcd19473cadd94aba8f8e3bb6",
       "version_major": 2,
       "version_minor": 0
      },
      "text/plain": [
       "Generating train split:   0%|          | 0/323 [00:00<?, ? examples/s]"
      ]
     },
     "metadata": {},
     "output_type": "display_data"
    },
    {
     "data": {
      "application/vnd.jupyter.widget-view+json": {
       "model_id": "caa3c055ecb64f689169659293d8d022",
       "version_major": 2,
       "version_minor": 0
      },
      "text/plain": [
       "Generating dev split:   0%|          | 0/5 [00:00<?, ? examples/s]"
      ]
     },
     "metadata": {},
     "output_type": "display_data"
    },
    {
     "data": {
      "application/vnd.jupyter.widget-view+json": {
       "model_id": "d252c88862504f2cbc937045495be63a",
       "version_major": 2,
       "version_minor": 0
      },
      "text/plain": [
       "Generating test split:   0%|          | 0/600 [00:00<?, ? examples/s]"
      ]
     },
     "metadata": {},
     "output_type": "display_data"
    },
    {
     "data": {
      "application/vnd.jupyter.widget-view+json": {
       "model_id": "ba9c22907d08449c8cbbbc6ec8b20eef",
       "version_major": 2,
       "version_minor": 0
      },
      "text/plain": [
       "Creating json from Arrow format:   0%|          | 0/1 [00:00<?, ?ba/s]"
      ]
     },
     "metadata": {},
     "output_type": "display_data"
    },
    {
     "name": "stdout",
     "output_type": "stream",
     "text": [
      "✅ 저장 완료: c:\\Users\\wogh0\\Documents\\GitHub\\K-Typo\\Code\\Datasets\\KMMLU_origin\\Maritime-Engineering.json\n",
      "\n",
      "📥 Downloading: Marketing\n"
     ]
    },
    {
     "data": {
      "application/vnd.jupyter.widget-view+json": {
       "model_id": "1c9490e0cdf14f3aba16e5fd071db8fa",
       "version_major": 2,
       "version_minor": 0
      },
      "text/plain": [
       "Marketing-train.csv:   0%|          | 0.00/230k [00:00<?, ?B/s]"
      ]
     },
     "metadata": {},
     "output_type": "display_data"
    },
    {
     "data": {
      "application/vnd.jupyter.widget-view+json": {
       "model_id": "bfc92ccb08774beea5fe5f54f23ae6b2",
       "version_major": 2,
       "version_minor": 0
      },
      "text/plain": [
       "Marketing-dev.csv:   0%|          | 0.00/1.70k [00:00<?, ?B/s]"
      ]
     },
     "metadata": {},
     "output_type": "display_data"
    },
    {
     "data": {
      "application/vnd.jupyter.widget-view+json": {
       "model_id": "0036f8eb056d48f0b231b927d0920394",
       "version_major": 2,
       "version_minor": 0
      },
      "text/plain": [
       "Marketing-test.csv:   0%|          | 0.00/343k [00:00<?, ?B/s]"
      ]
     },
     "metadata": {},
     "output_type": "display_data"
    },
    {
     "data": {
      "application/vnd.jupyter.widget-view+json": {
       "model_id": "30d7569450744d72b63485a1e5dcd61a",
       "version_major": 2,
       "version_minor": 0
      },
      "text/plain": [
       "Generating train split:   0%|          | 0/701 [00:00<?, ? examples/s]"
      ]
     },
     "metadata": {},
     "output_type": "display_data"
    },
    {
     "data": {
      "application/vnd.jupyter.widget-view+json": {
       "model_id": "3af764265fda4a63984d060abe99f408",
       "version_major": 2,
       "version_minor": 0
      },
      "text/plain": [
       "Generating dev split:   0%|          | 0/5 [00:00<?, ? examples/s]"
      ]
     },
     "metadata": {},
     "output_type": "display_data"
    },
    {
     "data": {
      "application/vnd.jupyter.widget-view+json": {
       "model_id": "cd475d2479df43708d4a51a220f91723",
       "version_major": 2,
       "version_minor": 0
      },
      "text/plain": [
       "Generating test split:   0%|          | 0/1000 [00:00<?, ? examples/s]"
      ]
     },
     "metadata": {},
     "output_type": "display_data"
    },
    {
     "data": {
      "application/vnd.jupyter.widget-view+json": {
       "model_id": "bb36c9a727bc40f287dbe8613f56b168",
       "version_major": 2,
       "version_minor": 0
      },
      "text/plain": [
       "Creating json from Arrow format:   0%|          | 0/1 [00:00<?, ?ba/s]"
      ]
     },
     "metadata": {},
     "output_type": "display_data"
    },
    {
     "name": "stdout",
     "output_type": "stream",
     "text": [
      "✅ 저장 완료: c:\\Users\\wogh0\\Documents\\GitHub\\K-Typo\\Code\\Datasets\\KMMLU_origin\\Marketing.json\n",
      "\n",
      "📥 Downloading: Materials-Engineering\n"
     ]
    },
    {
     "data": {
      "application/vnd.jupyter.widget-view+json": {
       "model_id": "cf8a76b4e9584ef7a96ebb38ad2e29be",
       "version_major": 2,
       "version_minor": 0
      },
      "text/plain": [
       "Materials-Engineering-train.csv:   0%|          | 0.00/1.09M [00:00<?, ?B/s]"
      ]
     },
     "metadata": {},
     "output_type": "display_data"
    },
    {
     "data": {
      "application/vnd.jupyter.widget-view+json": {
       "model_id": "9f8651ecce734b96ac944154645c199d",
       "version_major": 2,
       "version_minor": 0
      },
      "text/plain": [
       "Materials-Engineering-dev.csv:   0%|          | 0.00/1.04k [00:00<?, ?B/s]"
      ]
     },
     "metadata": {},
     "output_type": "display_data"
    },
    {
     "data": {
      "application/vnd.jupyter.widget-view+json": {
       "model_id": "f9525b28649b4bd98e394aea60d5213b",
       "version_major": 2,
       "version_minor": 0
      },
      "text/plain": [
       "Materials-Engineering-test.csv:   0%|          | 0.00/257k [00:00<?, ?B/s]"
      ]
     },
     "metadata": {},
     "output_type": "display_data"
    },
    {
     "data": {
      "application/vnd.jupyter.widget-view+json": {
       "model_id": "1ead5a247f0b4fe593c949eecf6099be",
       "version_major": 2,
       "version_minor": 0
      },
      "text/plain": [
       "Generating train split:   0%|          | 0/4254 [00:00<?, ? examples/s]"
      ]
     },
     "metadata": {},
     "output_type": "display_data"
    },
    {
     "data": {
      "application/vnd.jupyter.widget-view+json": {
       "model_id": "121dc38ce39f46a8aa52c74d66b98475",
       "version_major": 2,
       "version_minor": 0
      },
      "text/plain": [
       "Generating dev split:   0%|          | 0/5 [00:00<?, ? examples/s]"
      ]
     },
     "metadata": {},
     "output_type": "display_data"
    },
    {
     "data": {
      "application/vnd.jupyter.widget-view+json": {
       "model_id": "f0f501a106e14aa192f70276f6be4b61",
       "version_major": 2,
       "version_minor": 0
      },
      "text/plain": [
       "Generating test split:   0%|          | 0/1000 [00:00<?, ? examples/s]"
      ]
     },
     "metadata": {},
     "output_type": "display_data"
    },
    {
     "data": {
      "application/vnd.jupyter.widget-view+json": {
       "model_id": "8137f4e2b9cb4f4281e512c94fc0929d",
       "version_major": 2,
       "version_minor": 0
      },
      "text/plain": [
       "Creating json from Arrow format:   0%|          | 0/1 [00:00<?, ?ba/s]"
      ]
     },
     "metadata": {},
     "output_type": "display_data"
    },
    {
     "name": "stdout",
     "output_type": "stream",
     "text": [
      "✅ 저장 완료: c:\\Users\\wogh0\\Documents\\GitHub\\K-Typo\\Code\\Datasets\\KMMLU_origin\\Materials-Engineering.json\n",
      "\n",
      "📥 Downloading: Mechanical-Engineering\n"
     ]
    },
    {
     "data": {
      "application/vnd.jupyter.widget-view+json": {
       "model_id": "63bec580a4414885a886ea06ef9eea8e",
       "version_major": 2,
       "version_minor": 0
      },
      "text/plain": [
       "Mechanical-Engineering-train.csv:   0%|          | 0.00/1.24M [00:00<?, ?B/s]"
      ]
     },
     "metadata": {},
     "output_type": "display_data"
    },
    {
     "data": {
      "application/vnd.jupyter.widget-view+json": {
       "model_id": "1ccd01e9adf044d19ad706721b719b03",
       "version_major": 2,
       "version_minor": 0
      },
      "text/plain": [
       "Mechanical-Engineering-dev.csv:   0%|          | 0.00/1.18k [00:00<?, ?B/s]"
      ]
     },
     "metadata": {},
     "output_type": "display_data"
    },
    {
     "data": {
      "application/vnd.jupyter.widget-view+json": {
       "model_id": "51639b2b4885441e971541f6c1e45b6e",
       "version_major": 2,
       "version_minor": 0
      },
      "text/plain": [
       "Mechanical-Engineering-test.csv:   0%|          | 0.00/250k [00:00<?, ?B/s]"
      ]
     },
     "metadata": {},
     "output_type": "display_data"
    },
    {
     "data": {
      "application/vnd.jupyter.widget-view+json": {
       "model_id": "20a871eea69f4fb1b59047ae52402b31",
       "version_major": 2,
       "version_minor": 0
      },
      "text/plain": [
       "Generating train split:   0%|          | 0/4907 [00:00<?, ? examples/s]"
      ]
     },
     "metadata": {},
     "output_type": "display_data"
    },
    {
     "data": {
      "application/vnd.jupyter.widget-view+json": {
       "model_id": "1bd2a881c19e4b9a8af6388e9c961df0",
       "version_major": 2,
       "version_minor": 0
      },
      "text/plain": [
       "Generating dev split:   0%|          | 0/5 [00:00<?, ? examples/s]"
      ]
     },
     "metadata": {},
     "output_type": "display_data"
    },
    {
     "data": {
      "application/vnd.jupyter.widget-view+json": {
       "model_id": "77d85a9be5954821826d46d18806b071",
       "version_major": 2,
       "version_minor": 0
      },
      "text/plain": [
       "Generating test split:   0%|          | 0/1000 [00:00<?, ? examples/s]"
      ]
     },
     "metadata": {},
     "output_type": "display_data"
    },
    {
     "data": {
      "application/vnd.jupyter.widget-view+json": {
       "model_id": "bb2df3a90a174b5c90d9c4486bf2bee4",
       "version_major": 2,
       "version_minor": 0
      },
      "text/plain": [
       "Creating json from Arrow format:   0%|          | 0/1 [00:00<?, ?ba/s]"
      ]
     },
     "metadata": {},
     "output_type": "display_data"
    },
    {
     "name": "stdout",
     "output_type": "stream",
     "text": [
      "✅ 저장 완료: c:\\Users\\wogh0\\Documents\\GitHub\\K-Typo\\Code\\Datasets\\KMMLU_origin\\Mechanical-Engineering.json\n",
      "\n",
      "📥 Downloading: Nondestructive-Testing\n"
     ]
    },
    {
     "data": {
      "application/vnd.jupyter.widget-view+json": {
       "model_id": "755949d16f4341339175d932b963d537",
       "version_major": 2,
       "version_minor": 0
      },
      "text/plain": [
       "Nondestructive-Testing-train.csv:   0%|          | 0.00/1.08M [00:00<?, ?B/s]"
      ]
     },
     "metadata": {},
     "output_type": "display_data"
    },
    {
     "data": {
      "application/vnd.jupyter.widget-view+json": {
       "model_id": "42621ba309fa4040919c726484c98c88",
       "version_major": 2,
       "version_minor": 0
      },
      "text/plain": [
       "Nondestructive-Testing-dev.csv:   0%|          | 0.00/1.78k [00:00<?, ?B/s]"
      ]
     },
     "metadata": {},
     "output_type": "display_data"
    },
    {
     "data": {
      "application/vnd.jupyter.widget-view+json": {
       "model_id": "b62200a607b849f0adf90e16bbd80244",
       "version_major": 2,
       "version_minor": 0
      },
      "text/plain": [
       "Nondestructive-Testing-test.csv:   0%|          | 0.00/293k [00:00<?, ?B/s]"
      ]
     },
     "metadata": {},
     "output_type": "display_data"
    },
    {
     "data": {
      "application/vnd.jupyter.widget-view+json": {
       "model_id": "ff4d3181d81c469998ce6d12d401c975",
       "version_major": 2,
       "version_minor": 0
      },
      "text/plain": [
       "Generating train split:   0%|          | 0/3794 [00:00<?, ? examples/s]"
      ]
     },
     "metadata": {},
     "output_type": "display_data"
    },
    {
     "data": {
      "application/vnd.jupyter.widget-view+json": {
       "model_id": "a1f69ef00f734b92aa7b31d8eb29c0c3",
       "version_major": 2,
       "version_minor": 0
      },
      "text/plain": [
       "Generating dev split:   0%|          | 0/5 [00:00<?, ? examples/s]"
      ]
     },
     "metadata": {},
     "output_type": "display_data"
    },
    {
     "data": {
      "application/vnd.jupyter.widget-view+json": {
       "model_id": "7197ed2c8a2f42abbfc7518de3bd1a9c",
       "version_major": 2,
       "version_minor": 0
      },
      "text/plain": [
       "Generating test split:   0%|          | 0/1000 [00:00<?, ? examples/s]"
      ]
     },
     "metadata": {},
     "output_type": "display_data"
    },
    {
     "data": {
      "application/vnd.jupyter.widget-view+json": {
       "model_id": "20226bc7ab754531b694b1dc6cce64b7",
       "version_major": 2,
       "version_minor": 0
      },
      "text/plain": [
       "Creating json from Arrow format:   0%|          | 0/1 [00:00<?, ?ba/s]"
      ]
     },
     "metadata": {},
     "output_type": "display_data"
    },
    {
     "name": "stdout",
     "output_type": "stream",
     "text": [
      "✅ 저장 완료: c:\\Users\\wogh0\\Documents\\GitHub\\K-Typo\\Code\\Datasets\\KMMLU_origin\\Nondestructive-Testing.json\n",
      "\n",
      "📥 Downloading: Patent\n"
     ]
    },
    {
     "data": {
      "application/vnd.jupyter.widget-view+json": {
       "model_id": "898050e890764471aaf0fe12b8d245f6",
       "version_major": 2,
       "version_minor": 0
      },
      "text/plain": [
       "Patent-train.csv:   0%|          | 0.00/29.5k [00:00<?, ?B/s]"
      ]
     },
     "metadata": {},
     "output_type": "display_data"
    },
    {
     "data": {
      "application/vnd.jupyter.widget-view+json": {
       "model_id": "8be2a0e490ec4243a071cc3f867f9aa4",
       "version_major": 2,
       "version_minor": 0
      },
      "text/plain": [
       "Patent-dev.csv:   0%|          | 0.00/6.42k [00:00<?, ?B/s]"
      ]
     },
     "metadata": {},
     "output_type": "display_data"
    },
    {
     "data": {
      "application/vnd.jupyter.widget-view+json": {
       "model_id": "24a8b7d8ade14736a993492a661edb4f",
       "version_major": 2,
       "version_minor": 0
      },
      "text/plain": [
       "Patent-test.csv:   0%|          | 0.00/95.9k [00:00<?, ?B/s]"
      ]
     },
     "metadata": {},
     "output_type": "display_data"
    },
    {
     "data": {
      "application/vnd.jupyter.widget-view+json": {
       "model_id": "398ffaeddb4f4e2dbd8ad347791c1fca",
       "version_major": 2,
       "version_minor": 0
      },
      "text/plain": [
       "Generating train split:   0%|          | 0/25 [00:00<?, ? examples/s]"
      ]
     },
     "metadata": {},
     "output_type": "display_data"
    },
    {
     "data": {
      "application/vnd.jupyter.widget-view+json": {
       "model_id": "eaafc215f52d4feb89a34c16e0653cad",
       "version_major": 2,
       "version_minor": 0
      },
      "text/plain": [
       "Generating dev split:   0%|          | 0/5 [00:00<?, ? examples/s]"
      ]
     },
     "metadata": {},
     "output_type": "display_data"
    },
    {
     "data": {
      "application/vnd.jupyter.widget-view+json": {
       "model_id": "162237c2232746d79b770702dfaa0ea8",
       "version_major": 2,
       "version_minor": 0
      },
      "text/plain": [
       "Generating test split:   0%|          | 0/100 [00:00<?, ? examples/s]"
      ]
     },
     "metadata": {},
     "output_type": "display_data"
    },
    {
     "data": {
      "application/vnd.jupyter.widget-view+json": {
       "model_id": "3db9d5680e58480eae32abb30e6be2c6",
       "version_major": 2,
       "version_minor": 0
      },
      "text/plain": [
       "Creating json from Arrow format:   0%|          | 0/1 [00:00<?, ?ba/s]"
      ]
     },
     "metadata": {},
     "output_type": "display_data"
    },
    {
     "name": "stdout",
     "output_type": "stream",
     "text": [
      "✅ 저장 완료: c:\\Users\\wogh0\\Documents\\GitHub\\K-Typo\\Code\\Datasets\\KMMLU_origin\\Patent.json\n",
      "\n",
      "📥 Downloading: Political-Science-and-Sociology\n"
     ]
    },
    {
     "data": {
      "application/vnd.jupyter.widget-view+json": {
       "model_id": "d732b1af98fa4680bf52873584ecbc27",
       "version_major": 2,
       "version_minor": 0
      },
      "text/plain": [
       "(…)olitical-Science-and-Sociology-train.csv:   0%|          | 0.00/27.1k [00:00<?, ?B/s]"
      ]
     },
     "metadata": {},
     "output_type": "display_data"
    },
    {
     "data": {
      "application/vnd.jupyter.widget-view+json": {
       "model_id": "e01ee024054a405c88579199bab99372",
       "version_major": 2,
       "version_minor": 0
      },
      "text/plain": [
       "Political-Science-and-Sociology-dev.csv:   0%|          | 0.00/2.27k [00:00<?, ?B/s]"
      ]
     },
     "metadata": {},
     "output_type": "display_data"
    },
    {
     "data": {
      "application/vnd.jupyter.widget-view+json": {
       "model_id": "b92593fa11794421810dfc49f682b33b",
       "version_major": 2,
       "version_minor": 0
      },
      "text/plain": [
       "Political-Science-and-Sociology-test.csv:   0%|          | 0.00/162k [00:00<?, ?B/s]"
      ]
     },
     "metadata": {},
     "output_type": "display_data"
    },
    {
     "data": {
      "application/vnd.jupyter.widget-view+json": {
       "model_id": "56c80e828001425c929c9e619f1ac978",
       "version_major": 2,
       "version_minor": 0
      },
      "text/plain": [
       "Generating train split:   0%|          | 0/44 [00:00<?, ? examples/s]"
      ]
     },
     "metadata": {},
     "output_type": "display_data"
    },
    {
     "data": {
      "application/vnd.jupyter.widget-view+json": {
       "model_id": "a4aa7ed8686841819d35d6ce6d0ee9fc",
       "version_major": 2,
       "version_minor": 0
      },
      "text/plain": [
       "Generating dev split:   0%|          | 0/5 [00:00<?, ? examples/s]"
      ]
     },
     "metadata": {},
     "output_type": "display_data"
    },
    {
     "data": {
      "application/vnd.jupyter.widget-view+json": {
       "model_id": "dbec1b1da2f64c8ea4f64fcdb2e490bc",
       "version_major": 2,
       "version_minor": 0
      },
      "text/plain": [
       "Generating test split:   0%|          | 0/300 [00:00<?, ? examples/s]"
      ]
     },
     "metadata": {},
     "output_type": "display_data"
    },
    {
     "data": {
      "application/vnd.jupyter.widget-view+json": {
       "model_id": "93b89fc3660942b9a7b573f72ea4a76f",
       "version_major": 2,
       "version_minor": 0
      },
      "text/plain": [
       "Creating json from Arrow format:   0%|          | 0/1 [00:00<?, ?ba/s]"
      ]
     },
     "metadata": {},
     "output_type": "display_data"
    },
    {
     "name": "stdout",
     "output_type": "stream",
     "text": [
      "✅ 저장 완료: c:\\Users\\wogh0\\Documents\\GitHub\\K-Typo\\Code\\Datasets\\KMMLU_origin\\Political-Science-and-Sociology.json\n",
      "\n",
      "📥 Downloading: Psychology\n"
     ]
    },
    {
     "data": {
      "application/vnd.jupyter.widget-view+json": {
       "model_id": "3b9663fb886a4fdf90ef2cfd02c0e4a9",
       "version_major": 2,
       "version_minor": 0
      },
      "text/plain": [
       "Psychology-train.csv:   0%|          | 0.00/518k [00:00<?, ?B/s]"
      ]
     },
     "metadata": {},
     "output_type": "display_data"
    },
    {
     "data": {
      "application/vnd.jupyter.widget-view+json": {
       "model_id": "5f03a95f63de4505ba9c27d473e60066",
       "version_major": 2,
       "version_minor": 0
      },
      "text/plain": [
       "Psychology-dev.csv:   0%|          | 0.00/2.08k [00:00<?, ?B/s]"
      ]
     },
     "metadata": {},
     "output_type": "display_data"
    },
    {
     "data": {
      "application/vnd.jupyter.widget-view+json": {
       "model_id": "92661aa196054297825e97d02096d68e",
       "version_major": 2,
       "version_minor": 0
      },
      "text/plain": [
       "Psychology-test.csv:   0%|          | 0.00/413k [00:00<?, ?B/s]"
      ]
     },
     "metadata": {},
     "output_type": "display_data"
    },
    {
     "data": {
      "application/vnd.jupyter.widget-view+json": {
       "model_id": "02db85ec44bc4baca16078a48cfe8a61",
       "version_major": 2,
       "version_minor": 0
      },
      "text/plain": [
       "Generating train split:   0%|          | 0/1354 [00:00<?, ? examples/s]"
      ]
     },
     "metadata": {},
     "output_type": "display_data"
    },
    {
     "data": {
      "application/vnd.jupyter.widget-view+json": {
       "model_id": "0b8dcb335b5c4d6c866e1efc97edd250",
       "version_major": 2,
       "version_minor": 0
      },
      "text/plain": [
       "Generating dev split:   0%|          | 0/5 [00:00<?, ? examples/s]"
      ]
     },
     "metadata": {},
     "output_type": "display_data"
    },
    {
     "data": {
      "application/vnd.jupyter.widget-view+json": {
       "model_id": "449f38b3d63d4233a68d743513381757",
       "version_major": 2,
       "version_minor": 0
      },
      "text/plain": [
       "Generating test split:   0%|          | 0/1000 [00:00<?, ? examples/s]"
      ]
     },
     "metadata": {},
     "output_type": "display_data"
    },
    {
     "data": {
      "application/vnd.jupyter.widget-view+json": {
       "model_id": "97c5bd1fd21c40b9b490ef22fbdeb15f",
       "version_major": 2,
       "version_minor": 0
      },
      "text/plain": [
       "Creating json from Arrow format:   0%|          | 0/1 [00:00<?, ?ba/s]"
      ]
     },
     "metadata": {},
     "output_type": "display_data"
    },
    {
     "name": "stdout",
     "output_type": "stream",
     "text": [
      "✅ 저장 완료: c:\\Users\\wogh0\\Documents\\GitHub\\K-Typo\\Code\\Datasets\\KMMLU_origin\\Psychology.json\n",
      "\n",
      "📥 Downloading: Public-Safety\n"
     ]
    },
    {
     "data": {
      "application/vnd.jupyter.widget-view+json": {
       "model_id": "44fa129113694d1a9060c89f3e6a5bbc",
       "version_major": 2,
       "version_minor": 0
      },
      "text/plain": [
       "Public-Safety-train.csv:   0%|          | 0.00/3.42M [00:00<?, ?B/s]"
      ]
     },
     "metadata": {},
     "output_type": "display_data"
    },
    {
     "data": {
      "application/vnd.jupyter.widget-view+json": {
       "model_id": "f20793abd4dc47698bba67590023a454",
       "version_major": 2,
       "version_minor": 0
      },
      "text/plain": [
       "Public-Safety-dev.csv:   0%|          | 0.00/3.45k [00:00<?, ?B/s]"
      ]
     },
     "metadata": {},
     "output_type": "display_data"
    },
    {
     "data": {
      "application/vnd.jupyter.widget-view+json": {
       "model_id": "c64f851392d84154821bc267354108ab",
       "version_major": 2,
       "version_minor": 0
      },
      "text/plain": [
       "Public-Safety-test.csv:   0%|          | 0.00/270k [00:00<?, ?B/s]"
      ]
     },
     "metadata": {},
     "output_type": "display_data"
    },
    {
     "data": {
      "application/vnd.jupyter.widget-view+json": {
       "model_id": "5a71f52a006d4c4ab42a02608383bf4b",
       "version_major": 2,
       "version_minor": 0
      },
      "text/plain": [
       "Generating train split:   0%|          | 0/11924 [00:00<?, ? examples/s]"
      ]
     },
     "metadata": {},
     "output_type": "display_data"
    },
    {
     "data": {
      "application/vnd.jupyter.widget-view+json": {
       "model_id": "aa842fb3bfff441db183d60083852a3d",
       "version_major": 2,
       "version_minor": 0
      },
      "text/plain": [
       "Generating dev split:   0%|          | 0/5 [00:00<?, ? examples/s]"
      ]
     },
     "metadata": {},
     "output_type": "display_data"
    },
    {
     "data": {
      "application/vnd.jupyter.widget-view+json": {
       "model_id": "6bb38152ffe3403dadab53d87f77dd71",
       "version_major": 2,
       "version_minor": 0
      },
      "text/plain": [
       "Generating test split:   0%|          | 0/1000 [00:00<?, ? examples/s]"
      ]
     },
     "metadata": {},
     "output_type": "display_data"
    },
    {
     "data": {
      "application/vnd.jupyter.widget-view+json": {
       "model_id": "37e9c3aba47d4263b253f93c0d0e9423",
       "version_major": 2,
       "version_minor": 0
      },
      "text/plain": [
       "Creating json from Arrow format:   0%|          | 0/1 [00:00<?, ?ba/s]"
      ]
     },
     "metadata": {},
     "output_type": "display_data"
    },
    {
     "name": "stdout",
     "output_type": "stream",
     "text": [
      "✅ 저장 완료: c:\\Users\\wogh0\\Documents\\GitHub\\K-Typo\\Code\\Datasets\\KMMLU_origin\\Public-Safety.json\n",
      "\n",
      "📥 Downloading: Railway-and-Automotive-Engineering\n"
     ]
    },
    {
     "data": {
      "application/vnd.jupyter.widget-view+json": {
       "model_id": "bee88cb6acc141d79f4a52291f967242",
       "version_major": 2,
       "version_minor": 0
      },
      "text/plain": [
       "(…)way-and-Automotive-Engineering-train.csv:   0%|          | 0.00/1.70M [00:00<?, ?B/s]"
      ]
     },
     "metadata": {},
     "output_type": "display_data"
    },
    {
     "data": {
      "application/vnd.jupyter.widget-view+json": {
       "model_id": "e5f2bac2af264eb69959cf84e0d0cdcc",
       "version_major": 2,
       "version_minor": 0
      },
      "text/plain": [
       "(…)ilway-and-Automotive-Engineering-dev.csv:   0%|          | 0.00/1.31k [00:00<?, ?B/s]"
      ]
     },
     "metadata": {},
     "output_type": "display_data"
    },
    {
     "data": {
      "application/vnd.jupyter.widget-view+json": {
       "model_id": "b1918ba820a54e838597a6fb528b247f",
       "version_major": 2,
       "version_minor": 0
      },
      "text/plain": [
       "(…)lway-and-Automotive-Engineering-test.csv:   0%|          | 0.00/276k [00:00<?, ?B/s]"
      ]
     },
     "metadata": {},
     "output_type": "display_data"
    },
    {
     "data": {
      "application/vnd.jupyter.widget-view+json": {
       "model_id": "3e7c0893b71a4147a7fa6717a82a4239",
       "version_major": 2,
       "version_minor": 0
      },
      "text/plain": [
       "Generating train split:   0%|          | 0/6172 [00:00<?, ? examples/s]"
      ]
     },
     "metadata": {},
     "output_type": "display_data"
    },
    {
     "data": {
      "application/vnd.jupyter.widget-view+json": {
       "model_id": "73e0920e576b4267bea02421db6dec59",
       "version_major": 2,
       "version_minor": 0
      },
      "text/plain": [
       "Generating dev split:   0%|          | 0/5 [00:00<?, ? examples/s]"
      ]
     },
     "metadata": {},
     "output_type": "display_data"
    },
    {
     "data": {
      "application/vnd.jupyter.widget-view+json": {
       "model_id": "25001413737147038c74a987288c6ef8",
       "version_major": 2,
       "version_minor": 0
      },
      "text/plain": [
       "Generating test split:   0%|          | 0/1000 [00:00<?, ? examples/s]"
      ]
     },
     "metadata": {},
     "output_type": "display_data"
    },
    {
     "data": {
      "application/vnd.jupyter.widget-view+json": {
       "model_id": "2aa28a9158a348bba9d69c3f05ed4a1b",
       "version_major": 2,
       "version_minor": 0
      },
      "text/plain": [
       "Creating json from Arrow format:   0%|          | 0/1 [00:00<?, ?ba/s]"
      ]
     },
     "metadata": {},
     "output_type": "display_data"
    },
    {
     "name": "stdout",
     "output_type": "stream",
     "text": [
      "✅ 저장 완료: c:\\Users\\wogh0\\Documents\\GitHub\\K-Typo\\Code\\Datasets\\KMMLU_origin\\Railway-and-Automotive-Engineering.json\n",
      "\n",
      "📥 Downloading: Real-Estate\n"
     ]
    },
    {
     "data": {
      "application/vnd.jupyter.widget-view+json": {
       "model_id": "85ef7c99f007483c9ab60e7f55f72392",
       "version_major": 2,
       "version_minor": 0
      },
      "text/plain": [
       "Real-Estate-train.csv:   0%|          | 0.00/49.2k [00:00<?, ?B/s]"
      ]
     },
     "metadata": {},
     "output_type": "display_data"
    },
    {
     "data": {
      "application/vnd.jupyter.widget-view+json": {
       "model_id": "9d266590776e454c9931a5577b91e9ab",
       "version_major": 2,
       "version_minor": 0
      },
      "text/plain": [
       "Real-Estate-dev.csv:   0%|          | 0.00/3.54k [00:00<?, ?B/s]"
      ]
     },
     "metadata": {},
     "output_type": "display_data"
    },
    {
     "data": {
      "application/vnd.jupyter.widget-view+json": {
       "model_id": "2d7baeace5474e1685c1ba6c13be6e9b",
       "version_major": 2,
       "version_minor": 0
      },
      "text/plain": [
       "Real-Estate-test.csv:   0%|          | 0.00/124k [00:00<?, ?B/s]"
      ]
     },
     "metadata": {},
     "output_type": "display_data"
    },
    {
     "data": {
      "application/vnd.jupyter.widget-view+json": {
       "model_id": "2f405ffab5eb4576aec67f8a7be5390d",
       "version_major": 2,
       "version_minor": 0
      },
      "text/plain": [
       "Generating train split:   0%|          | 0/79 [00:00<?, ? examples/s]"
      ]
     },
     "metadata": {},
     "output_type": "display_data"
    },
    {
     "data": {
      "application/vnd.jupyter.widget-view+json": {
       "model_id": "6c6708b43b474e13b298c796e4d64063",
       "version_major": 2,
       "version_minor": 0
      },
      "text/plain": [
       "Generating dev split:   0%|          | 0/5 [00:00<?, ? examples/s]"
      ]
     },
     "metadata": {},
     "output_type": "display_data"
    },
    {
     "data": {
      "application/vnd.jupyter.widget-view+json": {
       "model_id": "47342be811c04c6bbe43bbde33f793c4",
       "version_major": 2,
       "version_minor": 0
      },
      "text/plain": [
       "Generating test split:   0%|          | 0/200 [00:00<?, ? examples/s]"
      ]
     },
     "metadata": {},
     "output_type": "display_data"
    },
    {
     "data": {
      "application/vnd.jupyter.widget-view+json": {
       "model_id": "9f7e55573b914cc59151245366e1d8e9",
       "version_major": 2,
       "version_minor": 0
      },
      "text/plain": [
       "Creating json from Arrow format:   0%|          | 0/1 [00:00<?, ?ba/s]"
      ]
     },
     "metadata": {},
     "output_type": "display_data"
    },
    {
     "name": "stdout",
     "output_type": "stream",
     "text": [
      "✅ 저장 완료: c:\\Users\\wogh0\\Documents\\GitHub\\K-Typo\\Code\\Datasets\\KMMLU_origin\\Real-Estate.json\n",
      "\n",
      "📥 Downloading: Refrigerating-Machinery\n"
     ]
    },
    {
     "data": {
      "application/vnd.jupyter.widget-view+json": {
       "model_id": "10dd0b9b4b684f23840f9d746b6ae0d3",
       "version_major": 2,
       "version_minor": 0
      },
      "text/plain": [
       "Refrigerating-Machinery-train.csv:   0%|          | 0.00/1.48M [00:00<?, ?B/s]"
      ]
     },
     "metadata": {},
     "output_type": "display_data"
    },
    {
     "data": {
      "application/vnd.jupyter.widget-view+json": {
       "model_id": "48b990d1faa24f6bb6e064b614b86de4",
       "version_major": 2,
       "version_minor": 0
      },
      "text/plain": [
       "Refrigerating-Machinery-dev.csv:   0%|          | 0.00/1.24k [00:00<?, ?B/s]"
      ]
     },
     "metadata": {},
     "output_type": "display_data"
    },
    {
     "data": {
      "application/vnd.jupyter.widget-view+json": {
       "model_id": "d845e6fdf4a943e9a6aa881dc7a7d401",
       "version_major": 2,
       "version_minor": 0
      },
      "text/plain": [
       "Refrigerating-Machinery-test.csv:   0%|          | 0.00/280k [00:00<?, ?B/s]"
      ]
     },
     "metadata": {},
     "output_type": "display_data"
    },
    {
     "data": {
      "application/vnd.jupyter.widget-view+json": {
       "model_id": "815332dbb6fa44c7b6ef8530d1db9604",
       "version_major": 2,
       "version_minor": 0
      },
      "text/plain": [
       "Generating train split:   0%|          | 0/5242 [00:00<?, ? examples/s]"
      ]
     },
     "metadata": {},
     "output_type": "display_data"
    },
    {
     "data": {
      "application/vnd.jupyter.widget-view+json": {
       "model_id": "9badc2aad50641f4a81fe8453c0d461b",
       "version_major": 2,
       "version_minor": 0
      },
      "text/plain": [
       "Generating dev split:   0%|          | 0/5 [00:00<?, ? examples/s]"
      ]
     },
     "metadata": {},
     "output_type": "display_data"
    },
    {
     "data": {
      "application/vnd.jupyter.widget-view+json": {
       "model_id": "74c9f546258d4e8dac35418c42205248",
       "version_major": 2,
       "version_minor": 0
      },
      "text/plain": [
       "Generating test split:   0%|          | 0/1000 [00:00<?, ? examples/s]"
      ]
     },
     "metadata": {},
     "output_type": "display_data"
    },
    {
     "data": {
      "application/vnd.jupyter.widget-view+json": {
       "model_id": "5f78abf20afe41f9a9ef78907ba3685a",
       "version_major": 2,
       "version_minor": 0
      },
      "text/plain": [
       "Creating json from Arrow format:   0%|          | 0/1 [00:00<?, ?ba/s]"
      ]
     },
     "metadata": {},
     "output_type": "display_data"
    },
    {
     "name": "stdout",
     "output_type": "stream",
     "text": [
      "✅ 저장 완료: c:\\Users\\wogh0\\Documents\\GitHub\\K-Typo\\Code\\Datasets\\KMMLU_origin\\Refrigerating-Machinery.json\n",
      "\n",
      "📥 Downloading: Social-Welfare\n"
     ]
    },
    {
     "data": {
      "application/vnd.jupyter.widget-view+json": {
       "model_id": "e7069c80af3547099cd1323c5acddb99",
       "version_major": 2,
       "version_minor": 0
      },
      "text/plain": [
       "Social-Welfare-train.csv:   0%|          | 0.00/321k [00:00<?, ?B/s]"
      ]
     },
     "metadata": {},
     "output_type": "display_data"
    },
    {
     "data": {
      "application/vnd.jupyter.widget-view+json": {
       "model_id": "bd6b7f02e2e84d149058e39d7c95b427",
       "version_major": 2,
       "version_minor": 0
      },
      "text/plain": [
       "Social-Welfare-dev.csv:   0%|          | 0.00/1.73k [00:00<?, ?B/s]"
      ]
     },
     "metadata": {},
     "output_type": "display_data"
    },
    {
     "data": {
      "application/vnd.jupyter.widget-view+json": {
       "model_id": "c50040a7a07c45cc8dd1281effeb5984",
       "version_major": 2,
       "version_minor": 0
      },
      "text/plain": [
       "Social-Welfare-test.csv:   0%|          | 0.00/349k [00:00<?, ?B/s]"
      ]
     },
     "metadata": {},
     "output_type": "display_data"
    },
    {
     "data": {
      "application/vnd.jupyter.widget-view+json": {
       "model_id": "3efc3c10edb94b75bb41e0bd864bcec8",
       "version_major": 2,
       "version_minor": 0
      },
      "text/plain": [
       "Generating train split:   0%|          | 0/907 [00:00<?, ? examples/s]"
      ]
     },
     "metadata": {},
     "output_type": "display_data"
    },
    {
     "data": {
      "application/vnd.jupyter.widget-view+json": {
       "model_id": "ad490285851943eaa480e2c34fbdb5b5",
       "version_major": 2,
       "version_minor": 0
      },
      "text/plain": [
       "Generating dev split:   0%|          | 0/5 [00:00<?, ? examples/s]"
      ]
     },
     "metadata": {},
     "output_type": "display_data"
    },
    {
     "data": {
      "application/vnd.jupyter.widget-view+json": {
       "model_id": "14b58a6b1d114447806f1152c3325590",
       "version_major": 2,
       "version_minor": 0
      },
      "text/plain": [
       "Generating test split:   0%|          | 0/1000 [00:00<?, ? examples/s]"
      ]
     },
     "metadata": {},
     "output_type": "display_data"
    },
    {
     "data": {
      "application/vnd.jupyter.widget-view+json": {
       "model_id": "d8ab32555ed54b39bfd038b443bb6044",
       "version_major": 2,
       "version_minor": 0
      },
      "text/plain": [
       "Creating json from Arrow format:   0%|          | 0/1 [00:00<?, ?ba/s]"
      ]
     },
     "metadata": {},
     "output_type": "display_data"
    },
    {
     "name": "stdout",
     "output_type": "stream",
     "text": [
      "✅ 저장 완료: c:\\Users\\wogh0\\Documents\\GitHub\\K-Typo\\Code\\Datasets\\KMMLU_origin\\Social-Welfare.json\n",
      "\n",
      "📥 Downloading: Taxation\n"
     ]
    },
    {
     "data": {
      "application/vnd.jupyter.widget-view+json": {
       "model_id": "8046514e28434f4d8526faa911dc2377",
       "version_major": 2,
       "version_minor": 0
      },
      "text/plain": [
       "Taxation-train.csv:   0%|          | 0.00/12.7k [00:00<?, ?B/s]"
      ]
     },
     "metadata": {},
     "output_type": "display_data"
    },
    {
     "data": {
      "application/vnd.jupyter.widget-view+json": {
       "model_id": "96fa64fa056b471bba7e72795d99eeb7",
       "version_major": 2,
       "version_minor": 0
      },
      "text/plain": [
       "Taxation-dev.csv:   0%|          | 0.00/4.03k [00:00<?, ?B/s]"
      ]
     },
     "metadata": {},
     "output_type": "display_data"
    },
    {
     "data": {
      "application/vnd.jupyter.widget-view+json": {
       "model_id": "dd957e0e36a84f9ba315099757e7b703",
       "version_major": 2,
       "version_minor": 0
      },
      "text/plain": [
       "Taxation-test.csv:   0%|          | 0.00/181k [00:00<?, ?B/s]"
      ]
     },
     "metadata": {},
     "output_type": "display_data"
    },
    {
     "data": {
      "application/vnd.jupyter.widget-view+json": {
       "model_id": "d517b84de05144949eda490b0e393e33",
       "version_major": 2,
       "version_minor": 0
      },
      "text/plain": [
       "Generating train split:   0%|          | 0/15 [00:00<?, ? examples/s]"
      ]
     },
     "metadata": {},
     "output_type": "display_data"
    },
    {
     "data": {
      "application/vnd.jupyter.widget-view+json": {
       "model_id": "c2f3e3c7be204db49b231b2ec9dec99e",
       "version_major": 2,
       "version_minor": 0
      },
      "text/plain": [
       "Generating dev split:   0%|          | 0/5 [00:00<?, ? examples/s]"
      ]
     },
     "metadata": {},
     "output_type": "display_data"
    },
    {
     "data": {
      "application/vnd.jupyter.widget-view+json": {
       "model_id": "89d5ac20eeb444398726aa8ff7d0a7de",
       "version_major": 2,
       "version_minor": 0
      },
      "text/plain": [
       "Generating test split:   0%|          | 0/200 [00:00<?, ? examples/s]"
      ]
     },
     "metadata": {},
     "output_type": "display_data"
    },
    {
     "data": {
      "application/vnd.jupyter.widget-view+json": {
       "model_id": "f6ab40b8f4204d03b8c21c1762b31e18",
       "version_major": 2,
       "version_minor": 0
      },
      "text/plain": [
       "Creating json from Arrow format:   0%|          | 0/1 [00:00<?, ?ba/s]"
      ]
     },
     "metadata": {},
     "output_type": "display_data"
    },
    {
     "name": "stdout",
     "output_type": "stream",
     "text": [
      "✅ 저장 완료: c:\\Users\\wogh0\\Documents\\GitHub\\K-Typo\\Code\\Datasets\\KMMLU_origin\\Taxation.json\n",
      "\n",
      "📥 Downloading: Telecommunications-and-Wireless-Technology\n"
     ]
    },
    {
     "data": {
      "application/vnd.jupyter.widget-view+json": {
       "model_id": "7eef1276a24f4d92bf8f66b92f2b778c",
       "version_major": 2,
       "version_minor": 0
      },
      "text/plain": [
       "(…)ations-and-Wireless-Technology-train.csv:   0%|          | 0.00/1.58M [00:00<?, ?B/s]"
      ]
     },
     "metadata": {},
     "output_type": "display_data"
    },
    {
     "data": {
      "application/vnd.jupyter.widget-view+json": {
       "model_id": "3b2d9589b9ae4d08953909fec650da37",
       "version_major": 2,
       "version_minor": 0
      },
      "text/plain": [
       "(…)ications-and-Wireless-Technology-dev.csv:   0%|          | 0.00/1.67k [00:00<?, ?B/s]"
      ]
     },
     "metadata": {},
     "output_type": "display_data"
    },
    {
     "data": {
      "application/vnd.jupyter.widget-view+json": {
       "model_id": "6edb5a6b5bd3411387d57cf765b143f2",
       "version_major": 2,
       "version_minor": 0
      },
      "text/plain": [
       "(…)cations-and-Wireless-Technology-test.csv:   0%|          | 0.00/277k [00:00<?, ?B/s]"
      ]
     },
     "metadata": {},
     "output_type": "display_data"
    },
    {
     "data": {
      "application/vnd.jupyter.widget-view+json": {
       "model_id": "328120aca2e144a5938ea48e41f0962c",
       "version_major": 2,
       "version_minor": 0
      },
      "text/plain": [
       "Generating train split:   0%|          | 0/5736 [00:00<?, ? examples/s]"
      ]
     },
     "metadata": {},
     "output_type": "display_data"
    },
    {
     "data": {
      "application/vnd.jupyter.widget-view+json": {
       "model_id": "e2173c68829f43d9b368b72e7d434e46",
       "version_major": 2,
       "version_minor": 0
      },
      "text/plain": [
       "Generating dev split:   0%|          | 0/5 [00:00<?, ? examples/s]"
      ]
     },
     "metadata": {},
     "output_type": "display_data"
    },
    {
     "data": {
      "application/vnd.jupyter.widget-view+json": {
       "model_id": "3101518b15704f24b939980da7d8eb5f",
       "version_major": 2,
       "version_minor": 0
      },
      "text/plain": [
       "Generating test split:   0%|          | 0/1000 [00:00<?, ? examples/s]"
      ]
     },
     "metadata": {},
     "output_type": "display_data"
    },
    {
     "data": {
      "application/vnd.jupyter.widget-view+json": {
       "model_id": "077fee7d23be43c893c255cee5bcec96",
       "version_major": 2,
       "version_minor": 0
      },
      "text/plain": [
       "Creating json from Arrow format:   0%|          | 0/1 [00:00<?, ?ba/s]"
      ]
     },
     "metadata": {},
     "output_type": "display_data"
    },
    {
     "name": "stdout",
     "output_type": "stream",
     "text": [
      "✅ 저장 완료: c:\\Users\\wogh0\\Documents\\GitHub\\K-Typo\\Code\\Datasets\\KMMLU_origin\\Telecommunications-and-Wireless-Technology.json\n",
      "\n",
      "📥 Downloading: Korean-History\n"
     ]
    },
    {
     "data": {
      "application/vnd.jupyter.widget-view+json": {
       "model_id": "741c66e3cd9648a587a7932bc926700d",
       "version_major": 2,
       "version_minor": 0
      },
      "text/plain": [
       "korean-history-train.csv:   0%|          | 0.00/1.06k [00:00<?, ?B/s]"
      ]
     },
     "metadata": {},
     "output_type": "display_data"
    },
    {
     "data": {
      "application/vnd.jupyter.widget-view+json": {
       "model_id": "6be1cb3ca9754a088af2ba22d212c3d3",
       "version_major": 2,
       "version_minor": 0
      },
      "text/plain": [
       "korean-history-dev.csv:   0%|          | 0.00/3.25k [00:00<?, ?B/s]"
      ]
     },
     "metadata": {},
     "output_type": "display_data"
    },
    {
     "data": {
      "application/vnd.jupyter.widget-view+json": {
       "model_id": "c4670a3f74054ebca6980f88fd0a631e",
       "version_major": 2,
       "version_minor": 0
      },
      "text/plain": [
       "korean-history-test.csv:   0%|          | 0.00/65.8k [00:00<?, ?B/s]"
      ]
     },
     "metadata": {},
     "output_type": "display_data"
    },
    {
     "data": {
      "application/vnd.jupyter.widget-view+json": {
       "model_id": "55e8f69b51e54c57abd2998f726a3138",
       "version_major": 2,
       "version_minor": 0
      },
      "text/plain": [
       "Generating train split:   0%|          | 0/1 [00:00<?, ? examples/s]"
      ]
     },
     "metadata": {},
     "output_type": "display_data"
    },
    {
     "data": {
      "application/vnd.jupyter.widget-view+json": {
       "model_id": "52f1f930a2914bd6bc9dc8aeee5565f1",
       "version_major": 2,
       "version_minor": 0
      },
      "text/plain": [
       "Generating dev split:   0%|          | 0/5 [00:00<?, ? examples/s]"
      ]
     },
     "metadata": {},
     "output_type": "display_data"
    },
    {
     "data": {
      "application/vnd.jupyter.widget-view+json": {
       "model_id": "1c0073999e2d4070b4ddaf53cef25768",
       "version_major": 2,
       "version_minor": 0
      },
      "text/plain": [
       "Generating test split:   0%|          | 0/100 [00:00<?, ? examples/s]"
      ]
     },
     "metadata": {},
     "output_type": "display_data"
    },
    {
     "data": {
      "application/vnd.jupyter.widget-view+json": {
       "model_id": "b72c62c0827a4a14baadb230425bfa76",
       "version_major": 2,
       "version_minor": 0
      },
      "text/plain": [
       "Creating json from Arrow format:   0%|          | 0/1 [00:00<?, ?ba/s]"
      ]
     },
     "metadata": {},
     "output_type": "display_data"
    },
    {
     "name": "stdout",
     "output_type": "stream",
     "text": [
      "✅ 저장 완료: c:\\Users\\wogh0\\Documents\\GitHub\\K-Typo\\Code\\Datasets\\KMMLU_origin\\Korean-History.json\n",
      "\n",
      "📥 Downloading: Math\n"
     ]
    },
    {
     "data": {
      "application/vnd.jupyter.widget-view+json": {
       "model_id": "0d71583c5b1d4dbeab5cbabc6897c61d",
       "version_major": 2,
       "version_minor": 0
      },
      "text/plain": [
       "math-train.csv:   0%|          | 0.00/13.6k [00:00<?, ?B/s]"
      ]
     },
     "metadata": {},
     "output_type": "display_data"
    },
    {
     "data": {
      "application/vnd.jupyter.widget-view+json": {
       "model_id": "7ef91cceba214393ba3c089fdc5f540f",
       "version_major": 2,
       "version_minor": 0
      },
      "text/plain": [
       "math-dev.csv:   0%|          | 0.00/944 [00:00<?, ?B/s]"
      ]
     },
     "metadata": {},
     "output_type": "display_data"
    },
    {
     "data": {
      "application/vnd.jupyter.widget-view+json": {
       "model_id": "1470945bc43849ecb416bcd57af3871d",
       "version_major": 2,
       "version_minor": 0
      },
      "text/plain": [
       "math-test.csv:   0%|          | 0.00/52.7k [00:00<?, ?B/s]"
      ]
     },
     "metadata": {},
     "output_type": "display_data"
    },
    {
     "data": {
      "application/vnd.jupyter.widget-view+json": {
       "model_id": "4e72c5c2cb394651800634b350fd176e",
       "version_major": 2,
       "version_minor": 0
      },
      "text/plain": [
       "Generating train split:   0%|          | 0/81 [00:00<?, ? examples/s]"
      ]
     },
     "metadata": {},
     "output_type": "display_data"
    },
    {
     "data": {
      "application/vnd.jupyter.widget-view+json": {
       "model_id": "fcd04fb350464a7a9124f0e183695469",
       "version_major": 2,
       "version_minor": 0
      },
      "text/plain": [
       "Generating dev split:   0%|          | 0/5 [00:00<?, ? examples/s]"
      ]
     },
     "metadata": {},
     "output_type": "display_data"
    },
    {
     "data": {
      "application/vnd.jupyter.widget-view+json": {
       "model_id": "c254b00ea0f544a190795e48ad6c58f6",
       "version_major": 2,
       "version_minor": 0
      },
      "text/plain": [
       "Generating test split:   0%|          | 0/300 [00:00<?, ? examples/s]"
      ]
     },
     "metadata": {},
     "output_type": "display_data"
    },
    {
     "data": {
      "application/vnd.jupyter.widget-view+json": {
       "model_id": "6e3408d15881486e88bf6714b4d643d5",
       "version_major": 2,
       "version_minor": 0
      },
      "text/plain": [
       "Creating json from Arrow format:   0%|          | 0/1 [00:00<?, ?ba/s]"
      ]
     },
     "metadata": {},
     "output_type": "display_data"
    },
    {
     "name": "stdout",
     "output_type": "stream",
     "text": [
      "✅ 저장 완료: c:\\Users\\wogh0\\Documents\\GitHub\\K-Typo\\Code\\Datasets\\KMMLU_origin\\Math.json\n",
      "\n"
     ]
    }
   ],
   "source": [
    "from datasets import get_dataset_config_names, load_dataset\n",
    "import os\n",
    "\n",
    "# 현재 파일 기준 절대경로 계산\n",
    "root_dir = os.path.abspath(os.getcwd())\n",
    "save_dir = os.path.join(root_dir, \"Datasets\", \"KMMLU_origin\")\n",
    "os.makedirs(save_dir, exist_ok=True)\n",
    "\n",
    "# 모든 카테고리 불러오기\n",
    "all_categories = get_dataset_config_names(\"HAERAE-HUB/KMMLU\")\n",
    "print(f\"🔍 총 {len(all_categories)}개 카테고리 발견됨\")\n",
    "\n",
    "# 각 카테고리 다운로드 및 저장\n",
    "for category in all_categories:\n",
    "    print(f\"📥 Downloading: {category}\")\n",
    "    \n",
    "    # 데이터셋 로드\n",
    "    ds = load_dataset(\"HAERAE-HUB/KMMLU\", category)\n",
    "    \n",
    "    # 절대 경로 저장\n",
    "    save_path = os.path.join(save_dir, f\"{category}.json\")\n",
    "    ds[\"test\"].to_json(save_path, force_ascii=False, orient=\"records\", lines=True)\n",
    "    \n",
    "    print(f\"✅ 저장 완료: {save_path}\\n\")\n"
   ]
  },
  {
   "cell_type": "code",
   "execution_count": 16,
   "id": "4acdd535",
   "metadata": {},
   "outputs": [
    {
     "name": "stdout",
     "output_type": "stream",
     "text": [
      "\n",
      "[TYPO TYPE 1] introduce_typo\n",
      "✅ 저장 완료: ./Datasets/KMMLU_typo\\KMMLU_1_level_1.json\n",
      "✅ 저장 완료: ./Datasets/KMMLU_typo\\KMMLU_1_level_2.json\n",
      "✅ 저장 완료: ./Datasets/KMMLU_typo\\KMMLU_1_level_3.json\n",
      "✅ 저장 완료: ./Datasets/KMMLU_typo\\KMMLU_1_level_4.json\n",
      "✅ 저장 완료: ./Datasets/KMMLU_typo\\KMMLU_1_level_5.json\n",
      "\n",
      "[TYPO TYPE 2] drop_jongsung\n",
      "✅ 저장 완료: ./Datasets/KMMLU_typo\\KMMLU_2_level_1.json\n",
      "✅ 저장 완료: ./Datasets/KMMLU_typo\\KMMLU_2_level_2.json\n",
      "✅ 저장 완료: ./Datasets/KMMLU_typo\\KMMLU_2_level_3.json\n",
      "✅ 저장 완료: ./Datasets/KMMLU_typo\\KMMLU_2_level_4.json\n",
      "✅ 저장 완료: ./Datasets/KMMLU_typo\\KMMLU_2_level_5.json\n",
      "\n",
      "[TYPO TYPE 3] repeat_char\n",
      "✅ 저장 완료: ./Datasets/KMMLU_typo\\KMMLU_3_level_1.json\n",
      "✅ 저장 완료: ./Datasets/KMMLU_typo\\KMMLU_3_level_2.json\n",
      "✅ 저장 완료: ./Datasets/KMMLU_typo\\KMMLU_3_level_3.json\n",
      "✅ 저장 완료: ./Datasets/KMMLU_typo\\KMMLU_3_level_4.json\n",
      "✅ 저장 완료: ./Datasets/KMMLU_typo\\KMMLU_3_level_5.json\n",
      "\n",
      "[TYPO TYPE 4] merge_words\n",
      "✅ 저장 완료: ./Datasets/KMMLU_typo\\KMMLU_4_level_1.json\n",
      "✅ 저장 완료: ./Datasets/KMMLU_typo\\KMMLU_4_level_2.json\n",
      "✅ 저장 완료: ./Datasets/KMMLU_typo\\KMMLU_4_level_3.json\n",
      "✅ 저장 완료: ./Datasets/KMMLU_typo\\KMMLU_4_level_4.json\n",
      "✅ 저장 완료: ./Datasets/KMMLU_typo\\KMMLU_4_level_5.json\n",
      "\n",
      "[TYPO TYPE 5] swap_parts\n",
      "✅ 저장 완료: ./Datasets/KMMLU_typo\\KMMLU_5_level_1.json\n",
      "✅ 저장 완료: ./Datasets/KMMLU_typo\\KMMLU_5_level_2.json\n",
      "✅ 저장 완료: ./Datasets/KMMLU_typo\\KMMLU_5_level_3.json\n",
      "✅ 저장 완료: ./Datasets/KMMLU_typo\\KMMLU_5_level_4.json\n",
      "✅ 저장 완료: ./Datasets/KMMLU_typo\\KMMLU_5_level_5.json\n"
     ]
    }
   ],
   "source": [
    "import os, json\n",
    "from collections import defaultdict\n",
    "from typo_generation import (\n",
    "    introduce_typo_to_sentence, drop_jongsung_sentence,\n",
    "    jamo_repeat_typo_mixed, merge_words_typo, swap_parts_in_sentence\n",
    ")\n",
    "\n",
    "# ───── 설정 ─────\n",
    "origin_dir = \"./Datasets/KMMLU_origin\"\n",
    "output_dir = \"./Datasets/KMMLU_typo\"\n",
    "os.makedirs(output_dir, exist_ok=True)\n",
    "\n",
    "typo_funcs = {\n",
    "    1: (\"introduce_typo\", introduce_typo_to_sentence),\n",
    "    2: (\"drop_jongsung\", drop_jongsung_sentence),\n",
    "    3: (\"repeat_char\", lambda t, c: jamo_repeat_typo_mixed(t, count=c, max_repeat=2)),\n",
    "    4: (\"merge_words\", merge_words_typo),\n",
    "    5: (\"swap_parts\", swap_parts_in_sentence)\n",
    "}\n",
    "\n",
    "MAX_TRY = 20\n",
    "levels = range(1, 6)\n",
    "\n",
    "# ───── Helper 함수 ─────\n",
    "def diff_pos(a, b):\n",
    "    d = {i for i, (x, y) in enumerate(zip(a, b)) if x != y}\n",
    "    if len(a) != len(b):\n",
    "        d.update(range(min(len(a), len(b)), max(len(a), len(b))))\n",
    "    return d\n",
    "\n",
    "def preserves(o, p, c):\n",
    "    for i in diff_pos(o, p):\n",
    "        if i >= len(c) or (i < len(o) and o[i] == c[i]):\n",
    "            return False\n",
    "    return True\n",
    "\n",
    "def mutate(prev, orig, func, skip, count=1, strict=True):\n",
    "    for _ in range(MAX_TRY):\n",
    "        cand = func(prev, count)\n",
    "        if not strict:\n",
    "            return cand\n",
    "        d = diff_pos(prev, cand)\n",
    "        if d and d.isdisjoint(skip) and preserves(orig, prev, cand):\n",
    "            skip.update(d)\n",
    "            return cand\n",
    "    return prev\n",
    "\n",
    "# ───── 오타 적용 및 저장 ─────\n",
    "for t_id, (ttype, base_func) in typo_funcs.items():\n",
    "    print(f\"\\n[TYPO TYPE {t_id}] {ttype}\")\n",
    "    \n",
    "    # 초기 데이터 로딩\n",
    "    all_data = {}\n",
    "    all_skip = {}\n",
    "\n",
    "    for fname in os.listdir(origin_dir):\n",
    "        if not fname.endswith(\".json\"):\n",
    "            continue\n",
    "        category = fname.replace(\".json\", \"\")\n",
    "        with open(os.path.join(origin_dir, fname), \"r\", encoding=\"utf-8\") as f:\n",
    "            ex_list = [json.loads(line) for line in f if line.strip()]\n",
    "        all_data[category] = ex_list\n",
    "        all_skip[category] = [set() for _ in range(len(ex_list))]\n",
    "\n",
    "    # 누적 오타 적용\n",
    "    for lvl in levels:\n",
    "        result = defaultdict(list)\n",
    "\n",
    "        for category, ex_list in all_data.items():\n",
    "            updated_ex_list = []\n",
    "            for i, ex in enumerate(ex_list):\n",
    "                q = ex[\"question\"]\n",
    "                prev_q = q  # 이전 상태\n",
    "\n",
    "                # mutate로 오타 삽입\n",
    "                strict_mode = (ttype not in [\"repeat_char\", \"merge_words\", \"swap_parts\"])\n",
    "                mutated_q = mutate(prev_q, q, base_func, all_skip[category][i], count=1, strict=strict_mode)\n",
    "\n",
    "                # 업데이트\n",
    "                ex = ex.copy()\n",
    "                ex[\"question\"] = mutated_q\n",
    "                updated_ex_list.append(ex)\n",
    "                result[category].append(ex)\n",
    "\n",
    "            # 다음 레벨에 반영\n",
    "            all_data[category] = updated_ex_list\n",
    "\n",
    "        # 저장\n",
    "        save_path = os.path.join(output_dir, f\"KMMLU_{t_id}_level_{lvl}.json\")\n",
    "        with open(save_path, \"w\", encoding=\"utf-8\") as f:\n",
    "            json.dump(result, f, ensure_ascii=False, indent=2)\n",
    "        print(f\"✅ 저장 완료: {save_path}\")\n"
   ]
  }
 ],
 "metadata": {
  "kernelspec": {
   "display_name": "base",
   "language": "python",
   "name": "python3"
  },
  "language_info": {
   "codemirror_mode": {
    "name": "ipython",
    "version": 3
   },
   "file_extension": ".py",
   "mimetype": "text/x-python",
   "name": "python",
   "nbconvert_exporter": "python",
   "pygments_lexer": "ipython3",
   "version": "3.12.7"
  }
 },
 "nbformat": 4,
 "nbformat_minor": 5
}
